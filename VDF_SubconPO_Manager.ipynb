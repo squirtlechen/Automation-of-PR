{
 "cells": [
  {
   "cell_type": "code",
   "execution_count": 1,
   "metadata": {},
   "outputs": [],
   "source": [
    "#liberary\n",
    "import pandas as pd\n",
    "from pandas import ExcelWriter\n",
    "from pandas import ExcelFile\n",
    "from selenium import webdriver\n",
    "import time\n",
    "import datetime\n",
    "import numpy as np\n",
    "import glob\n",
    "import os\n",
    "import xlwings as xw"
   ]
  },
  {
   "cell_type": "code",
   "execution_count": null,
   "metadata": {},
   "outputs": [],
   "source": [
    "#Put 1 file in the folder, only read first one \n",
    "tracker_path='D:\\\\06.SiteManager\\\\PO tracker'\n",
    "file_list=glob.glob(tracker_path+'/*.xlsm')\n",
    "PO_tracker=pd.read_excel(file_list[0],sheet_name='Report',skiprows=[0,2],header=[0],usecols='A,B,D,G,H,I,J,K,L,T,AO,AR,BC,BD,BE,BF,BG,BH,CC,CD,CE,CF,CG,CH,CI')\n",
    "PO_tracker=PO_tracker.rename(columns = {'FB360 Commissioned':'Plan End Date','FB360 Commissioned.1':'Actual End Date'})"
   ]
  },
  {
   "cell_type": "code",
   "execution_count": null,
   "metadata": {},
   "outputs": [],
   "source": [
    "#Seperate different type of site\n",
    "Beacon_tracker=PO_tracker[(PO_tracker['Site Activity']=='Full Beacon') | (PO_tracker['Site Activity']=='2Step') | (PO_tracker['Site Activity']=='2Step Cold Build')]\n",
    "Techadd_tracker=PO_tracker[(PO_tracker['Site Activity']=='L21') | (PO_tracker['Site Activity']=='L21 U9') | (PO_tracker['Site Activity']=='L26') | (PO_tracker['Site Activity']=='L21 10M') | (PO_tracker['Site Activity']=='TEF L18') | (PO_tracker['Site Activity']=='TEF L21') | (PO_tracker['Site Activity']=='TEF L26') | (PO_tracker['Site Activity']=='TEF Revisit') | (PO_tracker['Site Activity']=='5G')]"
   ]
  },
  {
   "cell_type": "markdown",
   "metadata": {},
   "source": [
    "Creating the label column for sorting--Full Beacon"
   ]
  },
  {
   "cell_type": "code",
   "execution_count": null,
   "metadata": {},
   "outputs": [],
   "source": [
    "#Classification of Beacon only or with 2step\n",
    "def Classify(x):\n",
    "    if '2Step'not in x:\n",
    "        step_name=x+'2Step'\n",
    "        if step_name in np.array(Beacon_tracker['DU ID']):\n",
    "            return 'Full'\n",
    "        else:\n",
    "            return 'Beacon only'\n",
    "    elif '2Step' in x:\n",
    "        beacon_name=x.replace(\"2Step\", \"\")\n",
    "        if beacon_name in np.array(Beacon_tracker['DU ID']):\n",
    "            return 'Attached'\n",
    "        else:\n",
    "            return '2Step only'\n",
    "Beacon_tracker['Classification']=Beacon_tracker['DU ID'].apply(Classify)\n",
    "#Beacon_tracker.groupby('Classification').size()\n",
    "\n",
    "#Classification by Plan date\n",
    "PO_date=2\n",
    "cancel_point= pd.Timestamp.today() + pd.Timedelta(3, unit='M')\n",
    "raise_point= pd.Timestamp.today() + pd.Timedelta(PO_date, unit='M')\n",
    "today= pd.Timestamp.today()\n",
    "def plan_status(row):\n",
    "    if pd.notnull(row['Actual End Date']):\n",
    "        return 'Finished'\n",
    "    else:\n",
    "        if pd.isnull(row['Plan End Date']):\n",
    "            return 'de-instructed'\n",
    "        elif row['Plan End Date'] > cancel_point:\n",
    "            return 'Plan date postponed'\n",
    "        elif ((row['Plan End Date'] <= raise_point)&(row['Plan End Date']>today)):\n",
    "            return ('Process in '+str(PO_date)+' month')\n",
    "        else:\n",
    "            return 'Others'\n",
    "Beacon_tracker['Plan_status'] = Beacon_tracker.apply (lambda row: plan_status(row),axis=1)    \n",
    "#Beacon_tracker.groupby('Plan_status').size()\n",
    "\n",
    "#Return related site to mysite column\n",
    "def mysite(x):\n",
    "    if '2Step'not in x:\n",
    "        step_name=x+'2Step'\n",
    "        if step_name in np.array(Beacon_tracker['DU ID']):\n",
    "            return step_name\n",
    "        else:\n",
    "            return np.nan\n",
    "    if '2Step' in x:\n",
    "        beacon_name=x.replace(\"2Step\", \"\")\n",
    "        if beacon_name in np.array(Beacon_tracker['DU ID']):\n",
    "            return beacon_name\n",
    "        else:\n",
    "            return np.nan\n",
    "Beacon_tracker['Mysite']=Beacon_tracker['DU ID'].apply(mysite)\n",
    "#replace site ID to the site status\n",
    "Partner=Beacon_tracker.copy()\n",
    "Partner.set_index('DU ID',inplace=True)\n",
    "Beacon_tracker['Mysite']=Beacon_tracker['Mysite'].map(Partner['Plan_status'])\n",
    "#Check PO status\n",
    "Temp_active=Beacon_tracker['Active BTS I&C PO No.'].apply(lambda x: np.nan if 'Cancel' in str(x) else x)\n",
    "Temp_passive=Beacon_tracker['Passive Partner Build PO'].apply(lambda x: np.nan if 'Cancel' in str(x) else x)\n",
    "Need_2Step_PO=Beacon_tracker['Mysite'].apply(lambda x: True if x=='Finished'else False)\n",
    "No_2Step_PO=pd.isnull(Beacon_tracker['Partner 2STEP to FB PO'])\n",
    "Step_PO_noneed= ~(No_2Step_PO & Need_2Step_PO)\n",
    "Beacon_tracker['PO_Covered']=((pd.notnull(Temp_active) | pd.notnull(Temp_passive)) & Step_PO_noneed)\n",
    "#Beacon_tracker.groupby(['Plan_status','Classification','PO_Covered']).size()"
   ]
  },
  {
   "cell_type": "markdown",
   "metadata": {},
   "source": [
    "Creating the label column for sorting--Techadd"
   ]
  },
  {
   "cell_type": "code",
   "execution_count": null,
   "metadata": {},
   "outputs": [],
   "source": [
    "#Classification by Plan date\n",
    "PO_date=2\n",
    "cancel_point= pd.Timestamp.today() + pd.Timedelta(3, unit='M')\n",
    "raise_point= pd.Timestamp.today() + pd.Timedelta(PO_date, unit='M')\n",
    "today= pd.Timestamp.today() - pd.Timedelta(PO_date, unit='M') \n",
    "#today= pd.Timestamp(year=2019, month=1, day=1)\n",
    "def plan_status(row):\n",
    "    if pd.notnull(row['Actual End Date']):\n",
    "        return 'Finished'\n",
    "    else:\n",
    "        if pd.isnull(row['Plan End Date']):\n",
    "            return 'de-instructed'\n",
    "        elif row['Plan End Date'] > cancel_point:\n",
    "            return 'Plan date postponed'\n",
    "        elif ((row['Plan End Date'] <= raise_point)&(row['Plan End Date']>=today)):\n",
    "            return ('Process in '+str(PO_date)+' month')\n",
    "        else:\n",
    "            return 'Others'\n",
    "Techadd_tracker['Plan_status'] = Techadd_tracker.apply (lambda row: plan_status(row),axis=1)    \n",
    "#Techadd_tracker.groupby('Plan_status').size()\n",
    "\n",
    "#Check PO status\n",
    "Temp_Partner=Techadd_tracker['Partner Model PO'].apply(lambda x: np.nan if 'Cancel' in str(x) else x)\n",
    "Techadd_tracker['PO_Covered']=pd.notnull(Temp_Partner)\n",
    "#Techadd_tracker.groupby(['Plan_status','PO_Covered']).size()"
   ]
  },
  {
   "cell_type": "markdown",
   "metadata": {},
   "source": [
    "Creating Cancel Table(Full information) & PO_to_cancel(For cancel program)--FullBeacon"
   ]
  },
  {
   "cell_type": "code",
   "execution_count": null,
   "metadata": {
    "scrolled": true
   },
   "outputs": [],
   "source": [
    "#Find Site needs to be cancelled, 1. not going 2. have PO 3.related site is not going ethier \n",
    "logic1=((Beacon_tracker['Plan_status']=='de-instructed') | (Beacon_tracker['Plan_status']=='Plan date postponed'))\n",
    "logic2=Beacon_tracker['PO_Covered']\n",
    "logic3=((Beacon_tracker['Mysite']=='de-instructed') | (Beacon_tracker['Mysite']=='Plan date postponed')| pd.isnull(Beacon_tracker['Mysite']))\n",
    "Cancel_table=Beacon_tracker[logic1&logic2&logic3]\n",
    "Cancel_table=Cancel_table.reset_index(drop=True)\n",
    "#Cancel_table\n",
    "#Final check, Attached should be same as Full\n",
    "Cancel_table.groupby('Classification').size()\n",
    "#Remove attached site(PO is not on attached site)\n",
    "logic4=(Cancel_table['Classification']!='Attached')\n",
    "Temp_cancel=Cancel_table[logic4].reset_index(drop=True)\n",
    "#Active PO\n",
    "Active_list=pd.DataFrame(columns=['PO NO.','Site Code','Reason'])\n",
    "Active_list['PO NO.']=Temp_cancel['Active BTS I&C PO No.']\n",
    "Active_list['Site Code']=Temp_cancel['DU ID']\n",
    "Active_list['Reason']=Temp_cancel['Plan_status']\n",
    "#Passive PO\n",
    "Passive_list=pd.DataFrame(columns=['PO NO.','Site Code','Reason'])\n",
    "Passive_list['PO NO.']=Temp_cancel['Passive Partner Build PO']\n",
    "Passive_list['Site Code']=Temp_cancel['DU ID']\n",
    "Passive_list['Reason']=Temp_cancel['Plan_status']\n",
    "#Combine Table and organize data\n",
    "PO_to_cancel=Active_list.append(Passive_list)\n",
    "PO_to_cancel=PO_to_cancel.dropna()\n",
    "PO_to_cancel['PO NO.']=PO_to_cancel['PO NO.'].apply(lambda x : x.strip('(old)').strip())\n",
    "PO_to_cancel['PO NO.']=PO_to_cancel['PO NO.'].apply(lambda x : x.strip('(new)').strip())\n",
    "PO_to_cancel=PO_to_cancel.drop_duplicates()\n",
    "PO_to_cancel=PO_to_cancel.sort_values('Reason').reset_index(drop=True)"
   ]
  },
  {
   "cell_type": "markdown",
   "metadata": {},
   "source": [
    "Creating FulBeacon PO table"
   ]
  },
  {
   "cell_type": "code",
   "execution_count": null,
   "metadata": {},
   "outputs": [],
   "source": [
    "logic5=(Beacon_tracker['Plan_status']==('Process in '+str(PO_date)+' month'))\n",
    "PO_Summary_FB=Beacon_tracker[logic5]\n",
    "logic6=(Techadd_tracker['Plan_status']==('Process in '+str(PO_date)+' month'))\n",
    "PO_Summary_Techadd=Techadd_tracker[logic6]"
   ]
  },
  {
   "cell_type": "markdown",
   "metadata": {},
   "source": [
    "Prepare E2E PO table"
   ]
  },
  {
   "cell_type": "code",
   "execution_count": null,
   "metadata": {},
   "outputs": [],
   "source": [
    "def Concract_fixed(x):\n",
    "    try:\n",
    "        start=x.find('0008')\n",
    "        return x[start:(start+14)]\n",
    "    except:\n",
    "        return x\n",
    "PO_E2E=PO_Summary_FB[(PO_Summary_FB['PO_Covered']==False)&(pd.isnull(PO_Summary_FB['Active BTS I&C PO No.']))]\n",
    "PO_E2E=PO_E2E[['DU ID','Partner','Build Type','Site Type','Active VOD I&C Contract number','Passive Huawei Contract Number','QS Model']]\n",
    "PO_E2E['Active VOD I&C Contract number']=PO_E2E['Active VOD I&C Contract number'].apply(lambda x :Concract_fixed(str(x)))\n",
    "PO_E2E['Passive Huawei Contract Number']=PO_E2E['Passive Huawei Contract Number'].apply(lambda x :Concract_fixed(str(x)))\n",
    "PO_E2E=PO_E2E.reset_index()"
   ]
  },
  {
   "cell_type": "markdown",
   "metadata": {},
   "source": [
    "Prepare Revisit PO table"
   ]
  },
  {
   "cell_type": "code",
   "execution_count": null,
   "metadata": {},
   "outputs": [],
   "source": [
    "PO_Revisit=PO_Summary_FB[(PO_Summary_FB['PO_Covered']==False)&(pd.isnull(PO_Summary_FB['Partner 2STEP to FB PO']))&(PO_Summary_FB['Mysite']=='Finished')]\n",
    "PO_Revisit=PO_Revisit[['DU ID','Partner','FB Revisit HW contract No.']]\n",
    "PO_Revisit['FB Revisit HW contract No.']=PO_Revisit['FB Revisit HW contract No.'].apply(lambda x :Concract_fixed(str(x)))\n",
    "PO_Revisit=PO_Revisit.reset_index()"
   ]
  },
  {
   "cell_type": "markdown",
   "metadata": {},
   "source": [
    "Prepare Techadd PO Table"
   ]
  },
  {
   "cell_type": "code",
   "execution_count": null,
   "metadata": {},
   "outputs": [],
   "source": [
    "PO_Techadd=PO_Summary_Techadd[(PO_Summary_Techadd['PO_Covered']==False)&(pd.isnull(PO_Summary_Techadd['Partner Model PO']))]\n",
    "PO_Techadd=PO_Techadd[['DU ID','Partner','SPIM 2 VF PO Received','Partner Model']]\n",
    "PO_Techadd['SPIM 2 VF PO Received']=PO_Techadd['SPIM 2 VF PO Received'].apply(lambda x :Concract_fixed(str(x)))\n",
    "PO_Techadd=PO_Techadd.reset_index()"
   ]
  },
  {
   "cell_type": "markdown",
   "metadata": {},
   "source": [
    "Writing in EXCEL"
   ]
  },
  {
   "cell_type": "code",
   "execution_count": null,
   "metadata": {},
   "outputs": [],
   "source": [
    "Today=datetime.date.today()\n",
    "Filename_with_route=r'D:\\\\06.SiteManager\\\\SiteManager_'+Today.strftime('%d%m%Y')+'.xlsx'\n",
    "writer = pd.ExcelWriter(Filename_with_route)\n",
    "PO_Summary_FB.to_excel(writer,'FB_Summary')\n",
    "PO_Summary_Techadd.to_excel(writer,'Techadd_Summary')\n",
    "PO_E2E.to_excel(writer,\"E2E_PO_ready\")\n",
    "PO_Revisit.to_excel(writer,\"Revisit_PO_ready\")\n",
    "PO_Techadd.to_excel(writer,\"Techadd_PO_ready\")\n",
    "Cancel_table.to_excel(writer,'E2E_Cancel_Summary')\n",
    "PO_to_cancel.to_excel(writer,'sheet1')\n",
    "\n",
    "writer.save()"
   ]
  },
  {
   "cell_type": "markdown",
   "metadata": {},
   "source": [
    "PR_template V1.0"
   ]
  },
  {
   "cell_type": "code",
   "execution_count": null,
   "metadata": {},
   "outputs": [],
   "source": [
    "#item Database\n",
    "item_base=r'D:\\\\03.Purchase Reqeust\\\\Database_and_Configuration\\\\FB_PR_item.xlsx'\n",
    "AGF = pd.read_excel(item_base, sheet_name='AGF',skiprows=[1,2],dtype=str).replace('nan', np.nan).dropna(how='all')\n",
    "ART = pd.read_excel(item_base, sheet_name='ART',skiprows=[1,2],dtype=str).replace('nan', np.nan).dropna(how='all')\n",
    "AST = pd.read_excel(item_base, sheet_name='AST',skiprows=[1,2],dtype=str).replace('nan', np.nan).dropna(how='all')\n",
    "RT = pd.read_excel(item_base, sheet_name='RT',skiprows=[1,2],dtype=str).replace('nan', np.nan).dropna(how='all')\n",
    "ST = pd.read_excel(item_base, sheet_name='ST',skiprows=[1,2],dtype=str).replace('nan', np.nan).dropna(how='all')\n",
    "GFM1 = pd.read_excel(item_base, sheet_name='GFM1',skiprows=[1,2],dtype=str).replace('nan', np.nan).dropna(how='all')\n",
    "GFM2 = pd.read_excel(item_base, sheet_name='GFM2',skiprows=[1,2],dtype=str).replace('nan', np.nan).dropna(how='all')\n",
    "GFM3 = pd.read_excel(item_base, sheet_name='GFM3',skiprows=[1,2],dtype=str).replace('nan', np.nan).dropna(how='all')\n",
    "GFM4 = pd.read_excel(item_base, sheet_name='GFM4',skiprows=[1,2],dtype=str).replace('nan', np.nan).dropna(how='all')\n",
    "GFM5 = pd.read_excel(item_base, sheet_name='GFM5',skiprows=[1,2],dtype=str).replace('nan', np.nan).dropna(how='all')\n",
    "GFM6 = pd.read_excel(item_base, sheet_name='GFM6',skiprows=[1,2],dtype=str).replace('nan', np.nan).dropna(how='all')\n",
    "MWR = pd.read_excel(item_base, sheet_name='MWR',skiprows=[1,2],dtype=str).replace('nan', np.nan).dropna(how='all')\n",
    "RE2 = pd.read_excel(item_base, sheet_name='RE2',skiprows=[1,2],dtype=str).replace('nan', np.nan).dropna(how='all')\n",
    "REWR = pd.read_excel(item_base, sheet_name='REWR',skiprows=[1,2],dtype=str).replace('nan', np.nan).dropna(how='all')"
   ]
  },
  {
   "cell_type": "markdown",
   "metadata": {},
   "source": [
    "Normal reading when running whole program"
   ]
  },
  {
   "cell_type": "code",
   "execution_count": null,
   "metadata": {},
   "outputs": [],
   "source": [
    "PO_ready=pd.read_excel(Filename_with_route,sheet_name=\"E2E_PO_ready\",dtype=str)"
   ]
  },
  {
   "cell_type": "markdown",
   "metadata": {},
   "source": [
    "Reading file without setting route"
   ]
  },
  {
   "cell_type": "code",
   "execution_count": null,
   "metadata": {},
   "outputs": [],
   "source": [
    "PO_ready=pd.read_excel(Filename_with_route,sheet_name=\"E2E_PO_ready\",dtype=str)"
   ]
  },
  {
   "cell_type": "markdown",
   "metadata": {},
   "source": [
    "Main E2E PR"
   ]
  },
  {
   "cell_type": "code",
   "execution_count": null,
   "metadata": {},
   "outputs": [],
   "source": [
    "#Main E2E PO\n",
    "Base=r'D:\\\\03.Purchase Reqeust\\\\Database_and_Configuration\\\\PR_ebuy_template_empty.xlsx'\n",
    "PR_ALL=pd.read_excel(Base,sheet_name='PR ENG',skiprows=[1,2],dtype=str).replace('nan', np.nan).dropna(how='all')\n",
    "\n",
    "for row in range(0,len(PO_ready)):\n",
    "    if PO_ready.loc[row, 'Build Type']=='Active only':\n",
    "        if PO_ready.loc[row, 'Site Type']=='Streetworks':\n",
    "            Temp=AST.copy()\n",
    "            Temp['CONTRACT_NO']=PO_ready.loc[row, 'Active VOD I&C Contract number']\n",
    "            Temp['ENGINEERING_NAME']=PO_ready.loc[row, 'Partner']\n",
    "            Temp['DU_CODE']=PO_ready.loc[row, 'DU ID']\n",
    "            PR_ALL=PR_ALL.append(Temp, ignore_index=False)     \n",
    "        elif PO_ready.loc[row, 'Site Type']=='Rooftop':\n",
    "            Temp=ART.copy()\n",
    "            Temp['CONTRACT_NO']=PO_ready.loc[row, 'Active VOD I&C Contract number']\n",
    "            Temp['ENGINEERING_NAME']=PO_ready.loc[row, 'Partner']\n",
    "            Temp['DU_CODE']=PO_ready.loc[row, 'DU ID']\n",
    "            PR_ALL=PR_ALL.append(Temp, ignore_index=False)\n",
    "        elif PO_ready.loc[row, 'Site Type']=='Greenfield':\n",
    "            Temp=AGF.copy()\n",
    "            Temp['CONTRACT_NO']=PO_ready.loc[row, 'Active VOD I&C Contract number']\n",
    "            Temp['ENGINEERING_NAME']=PO_ready.loc[row, 'Partner']\n",
    "            Temp['DU_CODE']=PO_ready.loc[row, 'DU ID']\n",
    "            PR_ALL=PR_ALL.append(Temp, ignore_index=False)\n",
    "        else:\n",
    "            print(\"Something is incorrect, please check\")\n",
    "    else:\n",
    "        if PO_ready.loc[row, 'Site Type']=='Streetworks':\n",
    "            Temp=ST.copy()\n",
    "            Temp.loc[[0,1],'CONTRACT_NO']=PO_ready.loc[row, 'Active VOD I&C Contract number']\n",
    "            Temp.loc[2,'CONTRACT_NO']=PO_ready.loc[row, 'Passive Huawei Contract Number']\n",
    "            Temp['ENGINEERING_NAME']=PO_ready.loc[row, 'Partner']\n",
    "            Temp['DU_CODE']=PO_ready.loc[row, 'DU ID']\n",
    "            PR_ALL=PR_ALL.append(Temp, ignore_index=False)\n",
    "        elif PO_ready.loc[row, 'Site Type']=='Rooftop':\n",
    "            Temp=RT.copy()\n",
    "            Temp.loc[[0,1],'CONTRACT_NO']=PO_ready.loc[row, 'Active VOD I&C Contract number']\n",
    "            Temp.loc[2,'CONTRACT_NO']=PO_ready.loc[row, 'Passive Huawei Contract Number']\n",
    "            Temp['ENGINEERING_NAME']=PO_ready.loc[row, 'Partner']\n",
    "            Temp['DU_CODE']=PO_ready.loc[row, 'DU ID']\n",
    "            PR_ALL=PR_ALL.append(Temp, ignore_index=False)\n",
    "        elif PO_ready.loc[row, 'Site Type']=='Greenfield':\n",
    "            if PO_ready.loc[row, 'QS Model']=='M1':\n",
    "                Temp=GFM1.copy()\n",
    "                Temp.loc[[0,1],'CONTRACT_NO']=PO_ready.loc[row, 'Active VOD I&C Contract number']\n",
    "                Temp.loc[2,'CONTRACT_NO']=PO_ready.loc[row, 'Passive Huawei Contract Number']\n",
    "                Temp['ENGINEERING_NAME']=PO_ready.loc[row, 'Partner']\n",
    "                Temp['DU_CODE']=PO_ready.loc[row, 'DU ID']\n",
    "                PR_ALL=PR_ALL.append(Temp, ignore_index=False)\n",
    "            elif PO_ready.loc[row, 'QS Model']=='M2':\n",
    "                Temp=GFM2.copy()\n",
    "                Temp.loc[[0,1],'CONTRACT_NO']=PO_ready.loc[row, 'Active VOD I&C Contract number']\n",
    "                Temp.loc[2,'CONTRACT_NO']=PO_ready.loc[row, 'Passive Huawei Contract Number']\n",
    "                Temp['ENGINEERING_NAME']=PO_ready.loc[row, 'Partner']\n",
    "                Temp['DU_CODE']=PO_ready.loc[row, 'DU ID']\n",
    "                PR_ALL=PR_ALL.append(Temp, ignore_index=False)\n",
    "            elif PO_ready.loc[row, 'QS Model']=='M3':\n",
    "                Temp=GFM3.copy()\n",
    "                Temp.loc[[0,1],'CONTRACT_NO']=PO_ready.loc[row, 'Active VOD I&C Contract number']\n",
    "                Temp.loc[2,'CONTRACT_NO']=PO_ready.loc[row, 'Passive Huawei Contract Number']\n",
    "                Temp['ENGINEERING_NAME']=PO_ready.loc[row, 'Partner']\n",
    "                Temp['DU_CODE']=PO_ready.loc[row, 'DU ID']\n",
    "                PR_ALL=PR_ALL.append(Temp, ignore_index=False)\n",
    "            elif PO_ready.loc[row, 'QS Model']=='M4':\n",
    "                Temp=GFM4.copy()\n",
    "                Temp.loc[[0,1],'CONTRACT_NO']=PO_ready.loc[row, 'Active VOD I&C Contract number']\n",
    "                Temp.loc[2,'CONTRACT_NO']=PO_ready.loc[row, 'Passive Huawei Contract Number']\n",
    "                Temp['ENGINEERING_NAME']=PO_ready.loc[row, 'Partner']\n",
    "                Temp['DU_CODE']=PO_ready.loc[row, 'DU ID']\n",
    "                PR_ALL=PR_ALL.append(Temp, ignore_index=False)\n",
    "            elif PO_ready.loc[row, 'QS Model']=='M5':\n",
    "                Temp=GFM5.copy()\n",
    "                Temp.loc[[0,1],'CONTRACT_NO']=PO_ready.loc[row, 'Active VOD I&C Contract number']\n",
    "                Temp.loc[2,'CONTRACT_NO']=PO_ready.loc[row, 'Passive Huawei Contract Number']\n",
    "                Temp['ENGINEERING_NAME']=PO_ready.loc[row, 'Partner']\n",
    "                Temp['DU_CODE']=PO_ready.loc[row, 'DU ID']\n",
    "                PR_ALL=PR_ALL.append(Temp, ignore_index=False)\n",
    "            elif PO_ready.loc[row, 'QS Model']=='M6':\n",
    "                Temp=GFM6.copy()\n",
    "                Temp.loc[[0,1],'CONTRACT_NO']=PO_ready.loc[row, 'Active VOD I&C Contract number']\n",
    "                Temp.loc[2,'CONTRACT_NO']=PO_ready.loc[row, 'Passive Huawei Contract Number']\n",
    "                Temp['ENGINEERING_NAME']=PO_ready.loc[row, 'Partner']\n",
    "                Temp['DU_CODE']=PO_ready.loc[row, 'DU ID']\n",
    "                PR_ALL=PR_ALL.append(Temp, ignore_index=False)\n",
    "            else:\n",
    "                print(\"Something is incorrect, please check\") \n",
    "        else:\n",
    "            print(\"Something is incorrect, please check\")       "
   ]
  },
  {
   "cell_type": "code",
   "execution_count": null,
   "metadata": {},
   "outputs": [],
   "source": [
    "#Fixed time format\n",
    "Start=pd.Timestamp.today() + pd.Timedelta(7, unit='D')\n",
    "End=pd.Timestamp.today() + pd.Timedelta(21, unit='D')\n",
    "PR_ALL['START_DATE']=Start.strftime('%Y-%m-%d')\n",
    "PR_ALL['END_DATE']=End.strftime('%Y-%m-%d')"
   ]
  },
  {
   "cell_type": "code",
   "execution_count": null,
   "metadata": {},
   "outputs": [],
   "source": [
    "#Writing formal template\n",
    "Base=r'D:\\\\03.Purchase Reqeust\\\\Database_and_Configuration\\\\PR_ebuy_template_empty.xlsx'\n",
    "app=xw.App(visible=True,add_book=False)\n",
    "wb=app.books.open(Base)\n",
    "sht = wb.sheets['PR ENG']\n",
    "sht.range('A4').value=np.vstack(np.array(PR_ALL['REGION_CODE']))\n",
    "sht.range('C4').value=np.vstack(np.array(PR_ALL['PROJECT_CODE']))\n",
    "sht.range('D4').value=np.vstack(np.array(PR_ALL['SUB_PROJECT_CODE']))\n",
    "sht.range('E4').value=np.vstack(np.array(PR_ALL['CONTRACT_NO']))\n",
    "sht.range('G4').value=np.vstack(np.array(PR_ALL['ENGINEERING_NAME']))\n",
    "sht.range('J4').value=np.vstack(np.array(PR_ALL['REQUESTOR_EMPLOYEE_NUM']))\n",
    "sht.range('N4').value=np.vstack(np.array(PR_ALL['DEPARTMENT_CODE']))\n",
    "sht.range('O4').value=np.vstack(np.array(PR_ALL['DU_CODE']))\n",
    "sht.range('Q4').value=np.vstack(np.array(PR_ALL['ITEM_CODE']))\n",
    "sht.range('R4').value=np.vstack(np.array(PR_ALL['ITEM_DESC']))\n",
    "sht.range('V4').value=np.vstack(np.array(PR_ALL['UOM']))\n",
    "sht.range('W4').value=np.vstack(np.array(PR_ALL['QTY']))\n",
    "sht.range('X4').value=np.vstack(np.array(PR_ALL['UNIT_PRICE']))\n",
    "sht.range('Y4').value=np.vstack(np.array(PR_ALL['CURRENCY']))\n",
    "sht.range('Z4').value=np.vstack(np.array(PR_ALL['SERVICE_PRODUCT_CODE']))\n",
    "sht.range('AA4').value=np.vstack(np.array(PR_ALL['START_DATE']))\n",
    "sht.range('AB4').value=np.vstack(np.array(PR_ALL['END_DATE']))"
   ]
  },
  {
   "cell_type": "markdown",
   "metadata": {},
   "source": [
    "War room PR"
   ]
  },
  {
   "cell_type": "code",
   "execution_count": null,
   "metadata": {},
   "outputs": [],
   "source": [
    "#War room\n",
    "Base=r'D:\\\\03.Purchase Reqeust\\\\Database_and_Configuration\\\\PR_ebuy_template_empty.xlsx'\n",
    "PR_ALL=pd.read_excel(Base,sheet_name='PR ENG',skiprows=[1,2],dtype=str).replace('nan', np.nan).dropna(how='all')\n",
    "for row in range(0,len(PO_ready)):\n",
    "    Temp=MWR.copy()\n",
    "    Temp['CONTRACT_NO']=PO_ready.loc[row, 'Active VOD I&C Contract number']\n",
    "    #Temp['ENGINEERING_NAME']=PO_ready.loc[row, 'Partner']\n",
    "    Temp['DU_CODE']=PO_ready.loc[row, 'DU ID']\n",
    "    PR_ALL=PR_ALL.append(Temp, ignore_index=False) "
   ]
  },
  {
   "cell_type": "code",
   "execution_count": null,
   "metadata": {},
   "outputs": [],
   "source": [
    "#Fixed time format\n",
    "Start=pd.Timestamp.today() + pd.Timedelta(7, unit='D')\n",
    "End=pd.Timestamp.today() + pd.Timedelta(21, unit='D')\n",
    "PR_ALL['START_DATE']=Start.strftime('%Y-%m-%d')\n",
    "PR_ALL['END_DATE']=End.strftime('%Y-%m-%d')"
   ]
  },
  {
   "cell_type": "code",
   "execution_count": null,
   "metadata": {},
   "outputs": [],
   "source": [
    "#Writing formal template\n",
    "Base=r'D:\\\\03.Purchase Reqeust\\\\Database_and_Configuration\\\\PR_ebuy_template_empty.xlsx'\n",
    "app=xw.App(visible=True,add_book=False)\n",
    "wb=app.books.open(Base)\n",
    "sht = wb.sheets['PR ENG']\n",
    "sht.range('A4').value=np.vstack(np.array(PR_ALL['REGION_CODE']))\n",
    "sht.range('C4').value=np.vstack(np.array(PR_ALL['PROJECT_CODE']))\n",
    "sht.range('D4').value=np.vstack(np.array(PR_ALL['SUB_PROJECT_CODE']))\n",
    "sht.range('E4').value=np.vstack(np.array(PR_ALL['CONTRACT_NO']))\n",
    "sht.range('G4').value=np.vstack(np.array(PR_ALL['ENGINEERING_NAME']))\n",
    "sht.range('J4').value=np.vstack(np.array(PR_ALL['REQUESTOR_EMPLOYEE_NUM']))\n",
    "sht.range('N4').value=np.vstack(np.array(PR_ALL['DEPARTMENT_CODE']))\n",
    "sht.range('O4').value=np.vstack(np.array(PR_ALL['DU_CODE']))\n",
    "sht.range('Q4').value=np.vstack(np.array(PR_ALL['ITEM_CODE']))\n",
    "sht.range('R4').value=np.vstack(np.array(PR_ALL['ITEM_DESC']))\n",
    "sht.range('V4').value=np.vstack(np.array(PR_ALL['UOM']))\n",
    "sht.range('W4').value=np.vstack(np.array(PR_ALL['QTY']))\n",
    "sht.range('X4').value=np.vstack(np.array(PR_ALL['UNIT_PRICE']))\n",
    "sht.range('Y4').value=np.vstack(np.array(PR_ALL['CURRENCY']))\n",
    "sht.range('Z4').value=np.vstack(np.array(PR_ALL['SERVICE_PRODUCT_CODE']))\n",
    "sht.range('AA4').value=np.vstack(np.array(PR_ALL['START_DATE']))\n",
    "sht.range('AB4').value=np.vstack(np.array(PR_ALL['END_DATE']))"
   ]
  },
  {
   "cell_type": "markdown",
   "metadata": {},
   "source": [
    "2Step to Full Beacon Revisit PR"
   ]
  },
  {
   "cell_type": "code",
   "execution_count": null,
   "metadata": {},
   "outputs": [],
   "source": [
    "PO_Revisit=pd.read_excel(Filename_with_route,sheet_name=\"Revisit_PO_ready\",dtype=str)"
   ]
  },
  {
   "cell_type": "code",
   "execution_count": null,
   "metadata": {},
   "outputs": [],
   "source": [
    "Base=r'D:\\\\03.Purchase Reqeust\\\\Database_and_Configuration\\\\PR_ebuy_template_empty.xlsx'\n",
    "PR_ALL=pd.read_excel(Base,sheet_name='PR ENG',skiprows=[1,2],dtype=str).replace('nan', np.nan).dropna(how='all')\n",
    "for row in range(0,len(PO_Revisit)):\n",
    "    Temp=RE2.copy()\n",
    "    Temp['CONTRACT_NO']=PO_Revisit.loc[row, 'FB Revisit HW contract No.']\n",
    "    Temp['ENGINEERING_NAME']=PO_Revisit.loc[row, 'Partner']\n",
    "    Temp['DU_CODE']=PO_Revisit.loc[row, 'DU ID']\n",
    "    PR_ALL=PR_ALL.append(Temp, ignore_index=False) "
   ]
  },
  {
   "cell_type": "markdown",
   "metadata": {},
   "source": [
    "2Step to Full Beacon Revisit War room PR"
   ]
  },
  {
   "cell_type": "code",
   "execution_count": null,
   "metadata": {},
   "outputs": [],
   "source": [
    "Base=r'D:\\\\03.Purchase Reqeust\\\\Database_and_Configuration\\\\PR_ebuy_template_empty.xlsx'\n",
    "PR_ALL=pd.read_excel(Base,sheet_name='PR ENG',skiprows=[1,2],dtype=str).replace('nan', np.nan).dropna(how='all')\n",
    "for row in range(0,len(PO_Revisit)):\n",
    "    Temp=REWR.copy()\n",
    "    Temp['CONTRACT_NO']=PO_Revisit.loc[row, 'FB Revisit HW contract No.']\n",
    "    #Temp['ENGINEERING_NAME']=PO_Revisit.loc[row, 'Partner']\n",
    "    Temp['DU_CODE']=PO_Revisit.loc[row, 'DU ID']\n",
    "    PR_ALL=PR_ALL.append(Temp, ignore_index=False) "
   ]
  },
  {
   "cell_type": "code",
   "execution_count": null,
   "metadata": {},
   "outputs": [],
   "source": [
    "#PR_file_name=\"PR\"+now.strftime(\"%H%M\")+str(SN)+\"_\"+sub_con_name+\"_\"+str(datetime.date.today())+'.xlsx'\n",
    "#Whole_route='D:\\\\03.Purchase Reqeust\\\\02.Process\\\\'+PR_file_name\n",
    "#wb.save(Whole_route)\n",
    "#wb.close()\n",
    "#app.quit()"
   ]
  },
  {
   "cell_type": "markdown",
   "metadata": {},
   "source": [
    "Tech Add"
   ]
  },
  {
   "cell_type": "code",
   "execution_count": 2,
   "metadata": {},
   "outputs": [],
   "source": [
    "#item Database\n",
    "item_base=r'D:\\\\03.Purchase Reqeust\\\\Database_and_Configuration\\\\Techadd_PR_item.xlsx'\n",
    "TAM0 = pd.read_excel(item_base, sheet_name='M0',skiprows=[1,2],dtype=str).replace('nan', np.nan).dropna(how='all')\n",
    "TAM1 = pd.read_excel(item_base, sheet_name='M1',skiprows=[1,2],dtype=str).replace('nan', np.nan).dropna(how='all')\n",
    "TAM2 = pd.read_excel(item_base, sheet_name='M2',skiprows=[1,2],dtype=str).replace('nan', np.nan).dropna(how='all')\n",
    "TAM3 = pd.read_excel(item_base, sheet_name='M3',skiprows=[1,2],dtype=str).replace('nan', np.nan).dropna(how='all')\n",
    "TAM4 = pd.read_excel(item_base, sheet_name='M4',skiprows=[1,2],dtype=str).replace('nan', np.nan).dropna(how='all')\n",
    "TAM5 = pd.read_excel(item_base, sheet_name='M5',skiprows=[1,2],dtype=str).replace('nan', np.nan).dropna(how='all')\n",
    "TAM6 = pd.read_excel(item_base, sheet_name='M6',skiprows=[1,2],dtype=str).replace('nan', np.nan).dropna(how='all')\n",
    "TAM7 = pd.read_excel(item_base, sheet_name='M7',skiprows=[1,2],dtype=str).replace('nan', np.nan).dropna(how='all')\n",
    "TAWR = pd.read_excel(item_base, sheet_name='OMC',skiprows=[1,2],dtype=str).replace('nan', np.nan).dropna(how='all')\n",
    "TADD = pd.read_excel(item_base, sheet_name='Design',skiprows=[1,2],dtype=str).replace('nan', np.nan).dropna(how='all')\n",
    "TASV = pd.read_excel(item_base, sheet_name='Survey',skiprows=[1,2],dtype=str).replace('nan', np.nan).dropna(how='all')\n",
    "TALT = pd.read_excel(item_base, sheet_name='Logistic',skiprows=[1,2],dtype=str).replace('nan', np.nan).dropna(how='all')\n",
    "TAG51ST = pd.read_excel(item_base, sheet_name='G51STV',skiprows=[1,2],dtype=str).replace('nan', np.nan).dropna(how='all')\n",
    "TAG52ND = pd.read_excel(item_base, sheet_name='G52NDV',skiprows=[1,2],dtype=str).replace('nan', np.nan).dropna(how='all')\n",
    "G5TRIAL = pd.read_excel(item_base, sheet_name='G5TRIAL',skiprows=[1,2],dtype=str).replace('nan', np.nan).dropna(how='all')"
   ]
  },
  {
   "cell_type": "markdown",
   "metadata": {},
   "source": [
    "Manual Input"
   ]
  },
  {
   "cell_type": "code",
   "execution_count": 3,
   "metadata": {},
   "outputs": [
    {
     "data": {
      "text/html": [
       "<div>\n",
       "<style scoped>\n",
       "    .dataframe tbody tr th:only-of-type {\n",
       "        vertical-align: middle;\n",
       "    }\n",
       "\n",
       "    .dataframe tbody tr th {\n",
       "        vertical-align: top;\n",
       "    }\n",
       "\n",
       "    .dataframe thead th {\n",
       "        text-align: right;\n",
       "    }\n",
       "</style>\n",
       "<table border=\"1\" class=\"dataframe\">\n",
       "  <thead>\n",
       "    <tr style=\"text-align: right;\">\n",
       "      <th></th>\n",
       "      <th>DU ID</th>\n",
       "      <th>Partner</th>\n",
       "      <th>SPIM 2 VF PO Received</th>\n",
       "      <th>Partner Model</th>\n",
       "      <th>VDF PO</th>\n",
       "    </tr>\n",
       "  </thead>\n",
       "  <tbody>\n",
       "    <tr>\n",
       "      <th>0</th>\n",
       "      <td>10477O2TDD</td>\n",
       "      <td>Virtua</td>\n",
       "      <td>00082619201822</td>\n",
       "      <td>Survey</td>\n",
       "      <td>nan</td>\n",
       "    </tr>\n",
       "    <tr>\n",
       "      <th>1</th>\n",
       "      <td>36407O2TDD</td>\n",
       "      <td>Virtua</td>\n",
       "      <td>00082619202722</td>\n",
       "      <td>Survey</td>\n",
       "      <td>nan</td>\n",
       "    </tr>\n",
       "    <tr>\n",
       "      <th>2</th>\n",
       "      <td>1990O2TDD</td>\n",
       "      <td>Virtua</td>\n",
       "      <td>00082619202322</td>\n",
       "      <td>Survey</td>\n",
       "      <td>nan</td>\n",
       "    </tr>\n",
       "  </tbody>\n",
       "</table>\n",
       "</div>"
      ],
      "text/plain": [
       "        DU ID Partner SPIM 2 VF PO Received Partner Model VDF PO\n",
       "0  10477O2TDD  Virtua        00082619201822        Survey    nan\n",
       "1  36407O2TDD  Virtua        00082619202722        Survey    nan\n",
       "2   1990O2TDD  Virtua        00082619202322        Survey    nan"
      ]
     },
     "execution_count": 3,
     "metadata": {},
     "output_type": "execute_result"
    }
   ],
   "source": [
    "Tool='D:\\\\03.Purchase Reqeust\\\\Techadd_template_writing.xlsx'\n",
    "PO_tech=pd.read_excel(Tool,sheet_name='PO_laucher',dtype=str)\n",
    "PO_tech"
   ]
  },
  {
   "cell_type": "markdown",
   "metadata": {},
   "source": [
    "Tracker Input"
   ]
  },
  {
   "cell_type": "code",
   "execution_count": null,
   "metadata": {},
   "outputs": [],
   "source": [
    "PO_tech=pd.read_excel(Filename_with_route,sheet_name='Techadd_PO_ready',dtype=str)\n",
    "PO_tech=PO_tech.reset_index(drop=False)\n",
    "PO_tech"
   ]
  },
  {
   "cell_type": "code",
   "execution_count": 4,
   "metadata": {},
   "outputs": [],
   "source": [
    "Base=r'D:\\\\03.Purchase Reqeust\\\\Database_and_Configuration\\\\PR_ebuy_template_empty.xlsx'\n",
    "PR_ALL=pd.read_excel(Base,sheet_name='PR ENG',skiprows=[1,2],dtype=str).replace('nan', np.nan).dropna(how='all')\n",
    "for row in range(0,len(PO_tech)):\n",
    "    if PO_tech.loc[row, 'Partner Model']=='Model 0':\n",
    "        Temp=TAM0.copy()\n",
    "        Temp['CONTRACT_NO']=PO_tech.loc[row, 'SPIM 2 VF PO Received']\n",
    "        Temp['ENGINEERING_NAME']=PO_tech.loc[row, 'Partner']\n",
    "        Temp['DU_CODE']=PO_tech.loc[row, 'DU ID']\n",
    "        PR_ALL=PR_ALL.append(Temp, ignore_index=False)  \n",
    "    elif PO_tech.loc[row, 'Partner Model']=='Model 1':\n",
    "        Temp=TAM1.copy()\n",
    "        Temp['CONTRACT_NO']=PO_tech.loc[row, 'SPIM 2 VF PO Received']\n",
    "        Temp['ENGINEERING_NAME']=PO_tech.loc[row, 'Partner']\n",
    "        Temp['DU_CODE']=PO_tech.loc[row, 'DU ID']\n",
    "        PR_ALL=PR_ALL.append(Temp, ignore_index=False)  \n",
    "    elif PO_tech.loc[row, 'Partner Model']=='Model 2':\n",
    "        Temp=TAM2.copy()\n",
    "        Temp['CONTRACT_NO']=PO_tech.loc[row, 'SPIM 2 VF PO Received']\n",
    "        Temp['ENGINEERING_NAME']=PO_tech.loc[row, 'Partner']\n",
    "        Temp['DU_CODE']=PO_tech.loc[row, 'DU ID']\n",
    "        PR_ALL=PR_ALL.append(Temp, ignore_index=False)  \n",
    "    elif PO_tech.loc[row, 'Partner Model']=='Model 3':\n",
    "        Temp=TAM3.copy()\n",
    "        Temp['CONTRACT_NO']=PO_tech.loc[row, 'SPIM 2 VF PO Received']\n",
    "        Temp['ENGINEERING_NAME']=PO_tech.loc[row, 'Partner']\n",
    "        Temp['DU_CODE']=PO_tech.loc[row, 'DU ID']\n",
    "        PR_ALL=PR_ALL.append(Temp, ignore_index=False)  \n",
    "    elif PO_tech.loc[row, 'Partner Model']=='Model 4':\n",
    "        Temp=TAM4.copy()\n",
    "        Temp['CONTRACT_NO']=PO_tech.loc[row, 'SPIM 2 VF PO Received']\n",
    "        Temp['ENGINEERING_NAME']=PO_tech.loc[row, 'Partner']\n",
    "        Temp['DU_CODE']=PO_tech.loc[row, 'DU ID']\n",
    "        PR_ALL=PR_ALL.append(Temp, ignore_index=False)  \n",
    "    elif PO_tech.loc[row, 'Partner Model']=='Model 5':\n",
    "        Temp=TAM5.copy()\n",
    "        Temp['CONTRACT_NO']=PO_tech.loc[row, 'SPIM 2 VF PO Received']\n",
    "        Temp['ENGINEERING_NAME']=PO_tech.loc[row, 'Partner']\n",
    "        Temp['DU_CODE']=PO_tech.loc[row, 'DU ID']\n",
    "        PR_ALL=PR_ALL.append(Temp, ignore_index=False)  \n",
    "    elif PO_tech.loc[row, 'Partner Model']=='Model 6':\n",
    "        Temp=TAM6.copy()\n",
    "        Temp['CONTRACT_NO']=PO_tech.loc[row, 'SPIM 2 VF PO Received']\n",
    "        Temp['ENGINEERING_NAME']=PO_tech.loc[row, 'Partner']\n",
    "        Temp['DU_CODE']=PO_tech.loc[row, 'DU ID']\n",
    "        PR_ALL=PR_ALL.append(Temp, ignore_index=False)  \n",
    "    elif PO_tech.loc[row, 'Partner Model']=='Model 7':\n",
    "        Temp=TAM7.copy()\n",
    "        Temp['CONTRACT_NO']=PO_tech.loc[row, 'SPIM 2 VF PO Received']\n",
    "        Temp['ENGINEERING_NAME']=PO_tech.loc[row, 'Partner']\n",
    "        Temp['DU_CODE']=PO_tech.loc[row, 'DU ID']\n",
    "        PR_ALL=PR_ALL.append(Temp, ignore_index=False)\n",
    "    elif PO_tech.loc[row, 'Partner Model']=='Design':\n",
    "        Temp=TADD.copy()\n",
    "        Temp['CONTRACT_NO']=PO_tech.loc[row, 'SPIM 2 VF PO Received']\n",
    "        Temp['ENGINEERING_NAME']=PO_tech.loc[row, 'Partner']\n",
    "        Temp['DU_CODE']=PO_tech.loc[row, 'DU ID']\n",
    "        PR_ALL=PR_ALL.append(Temp, ignore_index=False)\n",
    "    elif PO_tech.loc[row, 'Partner Model']=='Survey':\n",
    "        Temp=TASV.copy()\n",
    "        Temp['CONTRACT_NO']=PO_tech.loc[row, 'SPIM 2 VF PO Received']\n",
    "        Temp['ENGINEERING_NAME']=PO_tech.loc[row, 'Partner']\n",
    "        Temp['DU_CODE']=PO_tech.loc[row, 'DU ID']\n",
    "        PR_ALL=PR_ALL.append(Temp, ignore_index=False)\n",
    "    elif PO_tech.loc[row, 'Partner Model']=='First Visit':\n",
    "        Temp=TAG51ST.copy()\n",
    "        Temp['CONTRACT_NO']=PO_tech.loc[row, 'SPIM 2 VF PO Received']\n",
    "        Temp['ENGINEERING_NAME']=PO_tech.loc[row, 'Partner']\n",
    "        Temp['DU_CODE']=PO_tech.loc[row, 'DU ID']\n",
    "        PR_ALL=PR_ALL.append(Temp, ignore_index=False)\n",
    "    elif PO_tech.loc[row, 'Partner Model']=='Second Visit':\n",
    "        Temp=TAG52ND.copy()\n",
    "        Temp['CONTRACT_NO']=PO_tech.loc[row, 'SPIM 2 VF PO Received']\n",
    "        Temp['ENGINEERING_NAME']=PO_tech.loc[row, 'Partner']\n",
    "        Temp['DU_CODE']=PO_tech.loc[row, 'DU ID']\n",
    "        PR_ALL=PR_ALL.append(Temp, ignore_index=False)\n",
    "    elif PO_tech.loc[row, 'Partner Model']=='Logistic':\n",
    "        Temp=TALT.copy()\n",
    "        Temp['CONTRACT_NO']=PO_tech.loc[row, 'SPIM 2 VF PO Received']\n",
    "        Temp['ENGINEERING_NAME']=PO_tech.loc[row, 'Partner']\n",
    "        Temp['DU_CODE']=PO_tech.loc[row, 'DU ID']\n",
    "        PR_ALL=PR_ALL.append(Temp, ignore_index=False)\n",
    "    elif PO_tech.loc[row, 'Partner Model']=='G5TRIAL':\n",
    "        Temp=G5TRIAL.copy()\n",
    "        Temp['CONTRACT_NO']=PO_tech.loc[row, 'SPIM 2 VF PO Received']\n",
    "        Temp['ENGINEERING_NAME']=PO_tech.loc[row, 'Partner']\n",
    "        Temp['DU_CODE']=PO_tech.loc[row, 'DU ID']\n",
    "        PR_ALL=PR_ALL.append(Temp, ignore_index=False)\n",
    "    else:\n",
    "        print(\"Something is incorrect, please check\")       "
   ]
  },
  {
   "cell_type": "code",
   "execution_count": 5,
   "metadata": {},
   "outputs": [],
   "source": [
    "#Fixed time format\n",
    "Start=pd.Timestamp.today() + pd.Timedelta(7, unit='D')\n",
    "End=pd.Timestamp.today() + pd.Timedelta(21, unit='D')\n",
    "PR_ALL['START_DATE']=Start.strftime('%Y-%m-%d')\n",
    "PR_ALL['END_DATE']=End.strftime('%Y-%m-%d')"
   ]
  },
  {
   "cell_type": "code",
   "execution_count": 8,
   "metadata": {},
   "outputs": [],
   "source": [
    "#Writing formal template\n",
    "Base=r'D:\\\\03.Purchase Reqeust\\\\Database_and_Configuration\\\\PR_ebuy_template_empty.xlsx'\n",
    "app=xw.App(visible=True,add_book=False)\n",
    "wb=app.books.open(Base)\n",
    "sht = wb.sheets['PR ENG']\n",
    "sht.range('A4').value=np.vstack(np.array(PR_ALL['REGION_CODE']))\n",
    "sht.range('C4').value=np.vstack(np.array(PR_ALL['PROJECT_CODE']))\n",
    "sht.range('D4').value=np.vstack(np.array(PR_ALL['SUB_PROJECT_CODE']))\n",
    "sht.range('E4').value=np.vstack(np.array(PR_ALL['CONTRACT_NO']))\n",
    "sht.range('G4').value=np.vstack(np.array(PR_ALL['ENGINEERING_NAME']))\n",
    "sht.range('J4').value=np.vstack(np.array(PR_ALL['REQUESTOR_EMPLOYEE_NUM']))\n",
    "sht.range('N4').value=np.vstack(np.array(PR_ALL['DEPARTMENT_CODE']))\n",
    "sht.range('O4').value=np.vstack(np.array(PR_ALL['DU_CODE']))\n",
    "sht.range('Q4').value=np.vstack(np.array(PR_ALL['ITEM_CODE']))\n",
    "sht.range('R4').value=np.vstack(np.array(PR_ALL['ITEM_DESC']))\n",
    "sht.range('V4').value=np.vstack(np.array(PR_ALL['UOM']))\n",
    "sht.range('W4').value=np.vstack(np.array(PR_ALL['QTY']))\n",
    "sht.range('X4').value=np.vstack(np.array(PR_ALL['UNIT_PRICE']))\n",
    "sht.range('Y4').value=np.vstack(np.array(PR_ALL['CURRENCY']))\n",
    "sht.range('Z4').value=np.vstack(np.array(PR_ALL['SERVICE_PRODUCT_CODE']))\n",
    "sht.range('AA4').value=np.vstack(np.array(PR_ALL['START_DATE']))\n",
    "sht.range('AB4').value=np.vstack(np.array(PR_ALL['END_DATE']))"
   ]
  },
  {
   "cell_type": "markdown",
   "metadata": {},
   "source": [
    "Tech add War room PR "
   ]
  },
  {
   "cell_type": "code",
   "execution_count": null,
   "metadata": {},
   "outputs": [],
   "source": [
    "Base=r'D:\\\\03.Purchase Reqeust\\\\Database_and_Configuration\\\\PR_ebuy_template_empty.xlsx'\n",
    "PR_ALL=pd.read_excel(Base,sheet_name='PR ENG',skiprows=[1,2],dtype=str).replace('nan', np.nan).dropna(how='all')\n",
    "for row in range(0,len(PO_tech)):\n",
    "    Temp=TAWR.copy()\n",
    "    Temp['CONTRACT_NO']=PO_tech.loc[row, 'SPIM 2 VF PO Received']\n",
    "    #Temp['ENGINEERING_NAME']=PO_tech.loc[row, 'Partner']\n",
    "    Temp['DU_CODE']=PO_tech.loc[row, 'DU ID']\n",
    "    PR_ALL=PR_ALL.append(Temp, ignore_index=False)  "
   ]
  },
  {
   "cell_type": "code",
   "execution_count": null,
   "metadata": {},
   "outputs": [],
   "source": [
    "#Fixed time format\n",
    "Start=pd.Timestamp.today() + pd.Timedelta(7, unit='D')\n",
    "End=pd.Timestamp.today() + pd.Timedelta(21, unit='D')\n",
    "PR_ALL['START_DATE']=Start.strftime('%Y-%m-%d')\n",
    "PR_ALL['END_DATE']=End.strftime('%Y-%m-%d')"
   ]
  },
  {
   "cell_type": "code",
   "execution_count": null,
   "metadata": {},
   "outputs": [],
   "source": [
    "#Writing formal template\n",
    "Base=r'D:\\\\03.Purchase Reqeust\\\\Database_and_Configuration\\\\PR_ebuy_template_empty.xlsx'\n",
    "app=xw.App(visible=True,add_book=False)\n",
    "wb=app.books.open(Base)\n",
    "sht = wb.sheets['PR ENG']\n",
    "sht.range('A4').value=np.vstack(np.array(PR_ALL['REGION_CODE']))\n",
    "sht.range('C4').value=np.vstack(np.array(PR_ALL['PROJECT_CODE']))\n",
    "sht.range('D4').value=np.vstack(np.array(PR_ALL['SUB_PROJECT_CODE']))\n",
    "sht.range('E4').value=np.vstack(np.array(PR_ALL['CONTRACT_NO']))\n",
    "sht.range('G4').value=np.vstack(np.array(PR_ALL['ENGINEERING_NAME']))\n",
    "sht.range('J4').value=np.vstack(np.array(PR_ALL['REQUESTOR_EMPLOYEE_NUM']))\n",
    "sht.range('N4').value=np.vstack(np.array(PR_ALL['DEPARTMENT_CODE']))\n",
    "sht.range('O4').value=np.vstack(np.array(PR_ALL['DU_CODE']))\n",
    "sht.range('Q4').value=np.vstack(np.array(PR_ALL['ITEM_CODE']))\n",
    "sht.range('R4').value=np.vstack(np.array(PR_ALL['ITEM_DESC']))\n",
    "sht.range('V4').value=np.vstack(np.array(PR_ALL['UOM']))\n",
    "sht.range('W4').value=np.vstack(np.array(PR_ALL['QTY']))\n",
    "sht.range('X4').value=np.vstack(np.array(PR_ALL['UNIT_PRICE']))\n",
    "sht.range('Y4').value=np.vstack(np.array(PR_ALL['CURRENCY']))\n",
    "sht.range('Z4').value=np.vstack(np.array(PR_ALL['SERVICE_PRODUCT_CODE']))\n",
    "sht.range('AA4').value=np.vstack(np.array(PR_ALL['START_DATE']))\n",
    "sht.range('AB4').value=np.vstack(np.array(PR_ALL['END_DATE']))"
   ]
  },
  {
   "cell_type": "markdown",
   "metadata": {},
   "source": [
    "Connnect44 Signal Testing PR"
   ]
  },
  {
   "cell_type": "code",
   "execution_count": null,
   "metadata": {},
   "outputs": [],
   "source": [
    "#item Database\n",
    "item_base=r'D:\\\\03.Purchase Reqeust\\\\Database_and_Configuration\\\\C44_PR_item.xlsx'\n",
    "TAC44 = pd.read_excel(item_base, sheet_name='TECHADD',skiprows=[1,2],dtype=str).replace('nan', np.nan).dropna(how='all')\n",
    "G5C44 = pd.read_excel(item_base, sheet_name='5G',skiprows=[1,2],dtype=str).replace('nan', np.nan).dropna(how='all')\n",
    "MIMOC44 = pd.read_excel(item_base, sheet_name='MaMIMO',skiprows=[1,2],dtype=str).replace('nan', np.nan).dropna(how='all')"
   ]
  },
  {
   "cell_type": "code",
   "execution_count": null,
   "metadata": {},
   "outputs": [],
   "source": [
    "Tool='D:\\\\03.Purchase Reqeust\\\\Connect44_spare_template_writing.xlsx'\n",
    "PO_C44=pd.read_excel(Tool,sheet_name='PO_laucher',dtype=str)\n",
    "PO_C44"
   ]
  },
  {
   "cell_type": "code",
   "execution_count": null,
   "metadata": {},
   "outputs": [],
   "source": [
    "Base=r'D:\\\\03.Purchase Reqeust\\\\Database_and_Configuration\\\\PR_ebuy_template_empty.xlsx'\n",
    "PR_ALL=pd.read_excel(Base,sheet_name='PR ENG',skiprows=[1,2],dtype=str).replace('nan', np.nan).dropna(how='all')\n",
    "for row in range(0,len(PO_C44)):\n",
    "    if PO_C44.loc[row, 'Partner Model']=='TECHADD':\n",
    "        Temp=TAC44.copy()\n",
    "        Temp['CONTRACT_NO']=PO_C44.loc[row, 'SPIM 2 VF PO Received']\n",
    "        Temp['ENGINEERING_NAME']=PO_C44.loc[row, 'Partner']\n",
    "        Temp['DU_CODE']=PO_C44.loc[row, 'DU ID']\n",
    "        PR_ALL=PR_ALL.append(Temp, ignore_index=False)  \n",
    "    elif PO_C44.loc[row, 'Partner Model']=='5G':\n",
    "        Temp=G5C44.copy()\n",
    "        Temp['CONTRACT_NO']=PO_C44.loc[row, 'SPIM 2 VF PO Received']\n",
    "        Temp['ENGINEERING_NAME']=PO_C44.loc[row, 'Partner']\n",
    "        Temp['DU_CODE']=PO_C44.loc[row, 'DU ID']\n",
    "        PR_ALL=PR_ALL.append(Temp, ignore_index=False)  \n",
    "    elif PO_C44.loc[row, 'Partner Model']=='MAMIMO':\n",
    "        Temp=MIMOC44.copy()\n",
    "        Temp['CONTRACT_NO']=PO_C44.loc[row, 'SPIM 2 VF PO Received']\n",
    "        Temp['ENGINEERING_NAME']=PO_C44.loc[row, 'Partner']\n",
    "        Temp['DU_CODE']=PO_C44.loc[row, 'DU ID']\n",
    "        PR_ALL=PR_ALL.append(Temp, ignore_index=False)  \n",
    "    else:\n",
    "        print(\"Something is incorrect, please check\")  "
   ]
  },
  {
   "cell_type": "code",
   "execution_count": null,
   "metadata": {},
   "outputs": [],
   "source": [
    "#Fixed time format\n",
    "Start=pd.Timestamp.today() + pd.Timedelta(7, unit='D')\n",
    "End=pd.Timestamp.today() + pd.Timedelta(21, unit='D')\n",
    "PR_ALL['START_DATE']=Start.strftime('%Y-%m-%d')\n",
    "PR_ALL['END_DATE']=End.strftime('%Y-%m-%d')"
   ]
  },
  {
   "cell_type": "code",
   "execution_count": null,
   "metadata": {},
   "outputs": [],
   "source": [
    "#Writing formal template\n",
    "Base=r'D:\\\\03.Purchase Reqeust\\\\Database_and_Configuration\\\\PR_ebuy_template_empty.xlsx'\n",
    "app=xw.App(visible=True,add_book=False)\n",
    "wb=app.books.open(Base)\n",
    "sht = wb.sheets['PR ENG']\n",
    "sht.range('A4').value=np.vstack(np.array(PR_ALL['REGION_CODE']))\n",
    "sht.range('C4').value=np.vstack(np.array(PR_ALL['PROJECT_CODE']))\n",
    "sht.range('D4').value=np.vstack(np.array(PR_ALL['SUB_PROJECT_CODE']))\n",
    "sht.range('E4').value=np.vstack(np.array(PR_ALL['CONTRACT_NO']))\n",
    "sht.range('G4').value=np.vstack(np.array(PR_ALL['ENGINEERING_NAME']))\n",
    "sht.range('J4').value=np.vstack(np.array(PR_ALL['REQUESTOR_EMPLOYEE_NUM']))\n",
    "sht.range('N4').value=np.vstack(np.array(PR_ALL['DEPARTMENT_CODE']))\n",
    "sht.range('O4').value=np.vstack(np.array(PR_ALL['DU_CODE']))\n",
    "sht.range('Q4').value=np.vstack(np.array(PR_ALL['ITEM_CODE']))\n",
    "sht.range('R4').value=np.vstack(np.array(PR_ALL['ITEM_DESC']))\n",
    "sht.range('V4').value=np.vstack(np.array(PR_ALL['UOM']))\n",
    "sht.range('W4').value=np.vstack(np.array(PR_ALL['QTY']))\n",
    "sht.range('X4').value=np.vstack(np.array(PR_ALL['UNIT_PRICE']))\n",
    "sht.range('Y4').value=np.vstack(np.array(PR_ALL['CURRENCY']))\n",
    "sht.range('Z4').value=np.vstack(np.array(PR_ALL['SERVICE_PRODUCT_CODE']))\n",
    "sht.range('AA4').value=np.vstack(np.array(PR_ALL['START_DATE']))\n",
    "sht.range('AB4').value=np.vstack(np.array(PR_ALL['END_DATE']))"
   ]
  },
  {
   "cell_type": "markdown",
   "metadata": {},
   "source": [
    "TDD Design PO"
   ]
  },
  {
   "cell_type": "code",
   "execution_count": 6,
   "metadata": {},
   "outputs": [],
   "source": [
    "#item Database\n",
    "item_base=r'D:\\\\03.Purchase Reqeust\\\\Database_and_Configuration\\\\TDD_Design_PR_item.xlsx'\n",
    "TDDGF = pd.read_excel(item_base, sheet_name='GF',skiprows=[1,2],dtype=str).replace('nan', np.nan).dropna(how='all')\n",
    "TDDRT = pd.read_excel(item_base, sheet_name='RT',skiprows=[1,2],dtype=str).replace('nan', np.nan).dropna(how='all')\n",
    "TDDSV = pd.read_excel(item_base, sheet_name='Survey',skiprows=[1,2],dtype=str).replace('nan', np.nan).dropna(how='all')"
   ]
  },
  {
   "cell_type": "code",
   "execution_count": 7,
   "metadata": {},
   "outputs": [
    {
     "data": {
      "text/html": [
       "<div>\n",
       "<style scoped>\n",
       "    .dataframe tbody tr th:only-of-type {\n",
       "        vertical-align: middle;\n",
       "    }\n",
       "\n",
       "    .dataframe tbody tr th {\n",
       "        vertical-align: top;\n",
       "    }\n",
       "\n",
       "    .dataframe thead th {\n",
       "        text-align: right;\n",
       "    }\n",
       "</style>\n",
       "<table border=\"1\" class=\"dataframe\">\n",
       "  <thead>\n",
       "    <tr style=\"text-align: right;\">\n",
       "      <th></th>\n",
       "      <th>DU ID</th>\n",
       "      <th>Partner</th>\n",
       "      <th>VDF PO</th>\n",
       "      <th>SPIM 2 VF PO Received</th>\n",
       "      <th>Partner Model</th>\n",
       "    </tr>\n",
       "  </thead>\n",
       "  <tbody>\n",
       "    <tr>\n",
       "      <th>0</th>\n",
       "      <td>1670VFTDD</td>\n",
       "      <td>Sitec</td>\n",
       "      <td>nan</td>\n",
       "      <td>00082618211323</td>\n",
       "      <td>RT</td>\n",
       "    </tr>\n",
       "    <tr>\n",
       "      <th>1</th>\n",
       "      <td>1670VFTDD</td>\n",
       "      <td>Sitec</td>\n",
       "      <td>nan</td>\n",
       "      <td>00082618211323</td>\n",
       "      <td>Survey</td>\n",
       "    </tr>\n",
       "  </tbody>\n",
       "</table>\n",
       "</div>"
      ],
      "text/plain": [
       "       DU ID Partner VDF PO SPIM 2 VF PO Received Partner Model\n",
       "0  1670VFTDD   Sitec    nan        00082618211323            RT\n",
       "1  1670VFTDD   Sitec    nan        00082618211323        Survey"
      ]
     },
     "execution_count": 7,
     "metadata": {},
     "output_type": "execute_result"
    }
   ],
   "source": [
    "Tool='D:\\\\03.Purchase Reqeust\\\\TDD_Design_spare_template_writing.xlsx'\n",
    "PO_TDD=pd.read_excel(Tool,sheet_name='PO_laucher',dtype=str)\n",
    "PO_TDD"
   ]
  },
  {
   "cell_type": "code",
   "execution_count": 8,
   "metadata": {},
   "outputs": [],
   "source": [
    "Base=r'D:\\\\03.Purchase Reqeust\\\\Database_and_Configuration\\\\PR_ebuy_template_empty.xlsx'\n",
    "PR_ALL=pd.read_excel(Base,sheet_name='PR ENG',skiprows=[1,2],dtype=str).replace('nan', np.nan).dropna(how='all')\n",
    "for row in range(0,len(PO_TDD)):\n",
    "    if PO_TDD.loc[row, 'Partner Model']=='RT':\n",
    "        Temp=TDDRT.copy()\n",
    "        Temp['CONTRACT_NO']=PO_TDD.loc[row, 'SPIM 2 VF PO Received']\n",
    "        Temp['ENGINEERING_NAME']=PO_TDD.loc[row, 'Partner']\n",
    "        Temp['DU_CODE']=PO_TDD.loc[row, 'DU ID']\n",
    "        PR_ALL=PR_ALL.append(Temp, ignore_index=False)  \n",
    "    elif PO_TDD.loc[row, 'Partner Model']=='GF':\n",
    "        Temp=TDDGF.copy()\n",
    "        Temp['CONTRACT_NO']=PO_TDD.loc[row, 'SPIM 2 VF PO Received']\n",
    "        Temp['ENGINEERING_NAME']=PO_TDD.loc[row, 'Partner']\n",
    "        Temp['DU_CODE']=PO_TDD.loc[row, 'DU ID']\n",
    "        PR_ALL=PR_ALL.append(Temp, ignore_index=False)\n",
    "    elif PO_TDD.loc[row, 'Partner Model']=='Survey':\n",
    "        Temp=TDDSV.copy()\n",
    "        Temp['CONTRACT_NO']=PO_TDD.loc[row, 'SPIM 2 VF PO Received']\n",
    "        Temp['ENGINEERING_NAME']=PO_TDD.loc[row, 'Partner']\n",
    "        Temp['DU_CODE']=PO_TDD.loc[row, 'DU ID']\n",
    "        PR_ALL=PR_ALL.append(Temp, ignore_index=False)\n",
    "    else:\n",
    "        print(\"Something is incorrect, please check\")  "
   ]
  },
  {
   "cell_type": "code",
   "execution_count": 9,
   "metadata": {},
   "outputs": [],
   "source": [
    "#Fixed time format\n",
    "Start=pd.Timestamp.today() + pd.Timedelta(7, unit='D')\n",
    "End=pd.Timestamp.today() + pd.Timedelta(21, unit='D')\n",
    "PR_ALL['START_DATE']=Start.strftime('%Y-%m-%d')\n",
    "PR_ALL['END_DATE']=End.strftime('%Y-%m-%d')"
   ]
  },
  {
   "cell_type": "code",
   "execution_count": 10,
   "metadata": {},
   "outputs": [],
   "source": [
    "#Writing formal template\n",
    "Base=r'D:\\\\03.Purchase Reqeust\\\\Database_and_Configuration\\\\PR_ebuy_template_empty.xlsx'\n",
    "app=xw.App(visible=True,add_book=False)\n",
    "wb=app.books.open(Base)\n",
    "sht = wb.sheets['PR ENG']\n",
    "sht.range('A4').value=np.vstack(np.array(PR_ALL['REGION_CODE']))\n",
    "sht.range('C4').value=np.vstack(np.array(PR_ALL['PROJECT_CODE']))\n",
    "sht.range('D4').value=np.vstack(np.array(PR_ALL['SUB_PROJECT_CODE']))\n",
    "sht.range('E4').value=np.vstack(np.array(PR_ALL['CONTRACT_NO']))\n",
    "sht.range('G4').value=np.vstack(np.array(PR_ALL['ENGINEERING_NAME']))\n",
    "sht.range('J4').value=np.vstack(np.array(PR_ALL['REQUESTOR_EMPLOYEE_NUM']))\n",
    "sht.range('N4').value=np.vstack(np.array(PR_ALL['DEPARTMENT_CODE']))\n",
    "sht.range('O4').value=np.vstack(np.array(PR_ALL['DU_CODE']))\n",
    "sht.range('Q4').value=np.vstack(np.array(PR_ALL['ITEM_CODE']))\n",
    "sht.range('R4').value=np.vstack(np.array(PR_ALL['ITEM_DESC']))\n",
    "sht.range('V4').value=np.vstack(np.array(PR_ALL['UOM']))\n",
    "sht.range('W4').value=np.vstack(np.array(PR_ALL['QTY']))\n",
    "sht.range('X4').value=np.vstack(np.array(PR_ALL['UNIT_PRICE']))\n",
    "sht.range('Y4').value=np.vstack(np.array(PR_ALL['CURRENCY']))\n",
    "sht.range('Z4').value=np.vstack(np.array(PR_ALL['SERVICE_PRODUCT_CODE']))\n",
    "sht.range('AA4').value=np.vstack(np.array(PR_ALL['START_DATE']))\n",
    "sht.range('AB4').value=np.vstack(np.array(PR_ALL['END_DATE']))"
   ]
  },
  {
   "cell_type": "markdown",
   "metadata": {},
   "source": [
    "QEHS PR"
   ]
  },
  {
   "cell_type": "code",
   "execution_count": null,
   "metadata": {},
   "outputs": [],
   "source": [
    "#item Database\n",
    "item_base=r'D:\\\\03.Purchase Reqeust\\\\Database_and_Configuration\\\\QEHS_PR_item.xlsx'\n",
    "Street = pd.read_excel(item_base, sheet_name='Street',skiprows=[1,2],dtype=str).replace('nan', np.nan).dropna(how='all')\n",
    "SSow = pd.read_excel(item_base, sheet_name='SSow',skiprows=[1,2],dtype=str).replace('nan', np.nan).dropna(how='all')\n",
    "QA = pd.read_excel(item_base, sheet_name='QA',skiprows=[1,2],dtype=str).replace('nan', np.nan).dropna(how='all')"
   ]
  },
  {
   "cell_type": "code",
   "execution_count": null,
   "metadata": {},
   "outputs": [],
   "source": [
    "Tool='D:\\\\03.Purchase Reqeust\\\\QEHS_template_writing.xlsx'\n",
    "PO_QEHS=pd.read_excel(Tool,sheet_name='PO_laucher',dtype=str)\n",
    "PO_QEHS"
   ]
  },
  {
   "cell_type": "code",
   "execution_count": null,
   "metadata": {},
   "outputs": [],
   "source": [
    "Base=r'D:\\\\03.Purchase Reqeust\\\\Database_and_Configuration\\\\PR_ebuy_template_empty.xlsx'\n",
    "PR_ALL=pd.read_excel(Base,sheet_name='PR ENG',skiprows=[1,2],dtype=str).replace('nan', np.nan).dropna(how='all')\n",
    "for row in range(0,len(PO_QEHS)):\n",
    "    if PO_QEHS.loc[row, 'Partner Model']=='Street':\n",
    "        Temp=Street.copy()\n",
    "        Temp['CONTRACT_NO']=PO_QEHS.loc[row, 'SPIM 2 VF PO Received']\n",
    "        Temp['ENGINEERING_NAME']=PO_TDD.loc[row, 'Partner']\n",
    "        Temp['DU_CODE']=PO_TDD.loc[row, 'DU ID']\n",
    "        PR_ALL=PR_ALL.append(Temp, ignore_index=False)  \n",
    "    elif PO_QEHS.loc[row, 'Partner Model']=='SSow':\n",
    "        Temp=SSow.copy()\n",
    "        Temp['CONTRACT_NO']=PO_TDD.loc[row, 'SPIM 2 VF PO Received']\n",
    "        Temp['ENGINEERING_NAME']=PO_TDD.loc[row, 'Partner']\n",
    "        Temp['DU_CODE']=PO_TDD.loc[row, 'DU ID']\n",
    "        PR_ALL=PR_ALL.append(Temp, ignore_index=False)\n",
    "    elif PO_QEHS.loc[row, 'Partner Model']=='QA':\n",
    "        Temp=QA.copy()\n",
    "        Temp['CONTRACT_NO']=PO_TDD.loc[row, 'SPIM 2 VF PO Received']\n",
    "        Temp['ENGINEERING_NAME']=PO_TDD.loc[row, 'Partner']\n",
    "        Temp['DU_CODE']=PO_TDD.loc[row, 'DU ID']\n",
    "        PR_ALL=PR_ALL.append(Temp, ignore_index=False)\n",
    "    else:\n",
    "        print(\"Something is incorrect, please check\")  "
   ]
  },
  {
   "cell_type": "code",
   "execution_count": null,
   "metadata": {},
   "outputs": [],
   "source": [
    "#Fixed time format\n",
    "Start=pd.Timestamp.today() + pd.Timedelta(7, unit='D')\n",
    "End=pd.Timestamp.today() + pd.Timedelta(21, unit='D')\n",
    "PR_ALL['START_DATE']=Start.strftime('%Y-%m-%d')\n",
    "PR_ALL['END_DATE']=End.strftime('%Y-%m-%d')"
   ]
  },
  {
   "cell_type": "code",
   "execution_count": null,
   "metadata": {},
   "outputs": [],
   "source": [
    "#Writing formal template\n",
    "Base=r'D:\\\\03.Purchase Reqeust\\\\Database_and_Configuration\\\\PR_ebuy_template_empty.xlsx'\n",
    "app=xw.App(visible=True,add_book=False)\n",
    "wb=app.books.open(Base)\n",
    "sht = wb.sheets['PR ENG']\n",
    "sht.range('A4').value=np.vstack(np.array(PR_ALL['REGION_CODE']))\n",
    "sht.range('C4').value=np.vstack(np.array(PR_ALL['PROJECT_CODE']))\n",
    "sht.range('D4').value=np.vstack(np.array(PR_ALL['SUB_PROJECT_CODE']))\n",
    "sht.range('E4').value=np.vstack(np.array(PR_ALL['CONTRACT_NO']))\n",
    "sht.range('G4').value=np.vstack(np.array(PR_ALL['ENGINEERING_NAME']))\n",
    "sht.range('J4').value=np.vstack(np.array(PR_ALL['REQUESTOR_EMPLOYEE_NUM']))\n",
    "sht.range('N4').value=np.vstack(np.array(PR_ALL['DEPARTMENT_CODE']))\n",
    "sht.range('O4').value=np.vstack(np.array(PR_ALL['DU_CODE']))\n",
    "sht.range('Q4').value=np.vstack(np.array(PR_ALL['ITEM_CODE']))\n",
    "sht.range('R4').value=np.vstack(np.array(PR_ALL['ITEM_DESC']))\n",
    "sht.range('V4').value=np.vstack(np.array(PR_ALL['UOM']))\n",
    "sht.range('W4').value=np.vstack(np.array(PR_ALL['QTY']))\n",
    "sht.range('X4').value=np.vstack(np.array(PR_ALL['UNIT_PRICE']))\n",
    "sht.range('Y4').value=np.vstack(np.array(PR_ALL['CURRENCY']))\n",
    "sht.range('Z4').value=np.vstack(np.array(PR_ALL['SERVICE_PRODUCT_CODE']))\n",
    "sht.range('AA4').value=np.vstack(np.array(PR_ALL['START_DATE']))\n",
    "sht.range('AB4').value=np.vstack(np.array(PR_ALL['END_DATE']))"
   ]
  },
  {
   "cell_type": "code",
   "execution_count": null,
   "metadata": {},
   "outputs": [],
   "source": []
  },
  {
   "cell_type": "code",
   "execution_count": null,
   "metadata": {},
   "outputs": [],
   "source": []
  }
 ],
 "metadata": {
  "kernelspec": {
   "display_name": "Python 3",
   "language": "python",
   "name": "python3"
  },
  "language_info": {
   "codemirror_mode": {
    "name": "ipython",
    "version": 3
   },
   "file_extension": ".py",
   "mimetype": "text/x-python",
   "name": "python",
   "nbconvert_exporter": "python",
   "pygments_lexer": "ipython3",
   "version": "3.6.5"
  }
 },
 "nbformat": 4,
 "nbformat_minor": 2
}
