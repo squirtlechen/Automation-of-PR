{
 "cells": [
  {
   "cell_type": "code",
   "execution_count": null,
   "metadata": {},
   "outputs": [],
   "source": [
    "#liberary\n",
    "import pandas as pd\n",
    "from pandas import ExcelWriter\n",
    "from pandas import ExcelFile\n",
    "from selenium import webdriver\n",
    "import time\n",
    "import datetime\n",
    "import numpy as np\n",
    "import ipywidgets as widgets\n",
    "import glob\n",
    "import os"
   ]
  },
  {
   "cell_type": "code",
   "execution_count": null,
   "metadata": {},
   "outputs": [],
   "source": [
    "tracker_path='D:\\\\06.FullBeacon\\\\PO tracker'\n",
    "file_list=glob.glob(tracker_path+'/*.xlsm')\n",
    "PO_track_table=pd.read_excel(file_list[0],sheet_name='Report',skiprows=[0,2],header=[0],usecols='A,D,G,H,I,J,K,L,AO,AR,BC,BD,BE,BF,BG,BH')\n",
    "PO_track_table=PO_track_table.rename(columns = {'FB360 Commissioned':'Plan End Date','FB360 Commissioned.1':'Actual End Date'})"
   ]
  },
  {
   "cell_type": "code",
   "execution_count": null,
   "metadata": {},
   "outputs": [],
   "source": [
    "Beacon_tracker=PO_track_table[(PO_track_table['Site Activity']=='Full Beacon') | (PO_track_table['Site Activity']=='2Step') | (PO_track_table['Site Activity']=='2Step Cold Build')]\n",
    "Beacon_tracker"
   ]
  },
  {
   "cell_type": "code",
   "execution_count": null,
   "metadata": {},
   "outputs": [],
   "source": [
    "#Site type\n",
    "def Classify(x):\n",
    "    if '2Step'not in x:\n",
    "        step_name=x+'2Step'\n",
    "        if step_name in np.array(Beacon_tracker['DU ID']):\n",
    "            return 'Full'\n",
    "        else:\n",
    "            return 'Beacon only'\n",
    "    elif '2Step' in x:\n",
    "        beacon_name=x.replace(\"2Step\", \"\")\n",
    "        if beacon_name in np.array(Beacon_tracker['DU ID']):\n",
    "            return 'Attached'\n",
    "        else:\n",
    "            return '2Step only'\n",
    "Beacon_tracker['Classification']=[*map(Classify ,Beacon_tracker['DU ID'])]"
   ]
  },
  {
   "cell_type": "code",
   "execution_count": null,
   "metadata": {},
   "outputs": [],
   "source": [
    "#Check site plan-current setting-2 months\n",
    "cancel_point= pd.Timestamp.today() + pd.Timedelta(2, unit='M')\n",
    "def cancel_type(x):\n",
    "    if pd.isnull(x):\n",
    "        return 'de-instructed'\n",
    "    elif x > cancel_point:\n",
    "        return 'Plan date postponed'\n",
    "    else:\n",
    "        return 'keep-going'\n",
    "Beacon_tracker['Cancel_type']=[*map(cancel_type, Beacon_tracker['Plan End Date'])]"
   ]
  },
  {
   "cell_type": "code",
   "execution_count": null,
   "metadata": {},
   "outputs": [],
   "source": [
    "Beacon_tracker.groupby('Classification').size()"
   ]
  },
  {
   "cell_type": "code",
   "execution_count": null,
   "metadata": {},
   "outputs": [],
   "source": [
    "#Check PO is exist\n",
    "Beacon_tracker['Active BTS I&C PO No.']=Beacon_tracker['Active BTS I&C PO No.'].apply(lambda x: np.nan if 'Cancel' in str(x) else x)\n",
    "Beacon_tracker['Passive Partner Build PO']=Beacon_tracker['Passive Partner Build PO'].apply(lambda x: np.nan if 'Cancel' in str(x) else x)\n",
    "Beacon_tracker['PO_exist']=(pd.notnull(Beacon_tracker['Active BTS I&C PO No.']) | pd.notnull(Beacon_tracker['Passive Partner Build PO'])) \n",
    "Beacon_tracker.groupby(['Cancel_type','Classification','PO_exist']).size()"
   ]
  },
  {
   "cell_type": "code",
   "execution_count": null,
   "metadata": {},
   "outputs": [],
   "source": [
    "#Mark same site in Mysite column\n",
    "def mysite(x):\n",
    "    if '2Step'not in x:\n",
    "        step_name=x+'2Step'\n",
    "        if step_name in np.array(Beacon_tracker['DU ID']):\n",
    "            return step_name\n",
    "        else:\n",
    "            return np.nan\n",
    "    if '2Step' in x:\n",
    "        beacon_name=x.replace(\"2Step\", \"\")\n",
    "        if beacon_name in np.array(Beacon_tracker['DU ID']):\n",
    "            return beacon_name\n",
    "        else:\n",
    "            return np.nan\n",
    "Beacon_tracker['Mysite']=Beacon_tracker['DU ID'].apply(mysite)"
   ]
  },
  {
   "cell_type": "code",
   "execution_count": null,
   "metadata": {},
   "outputs": [],
   "source": [
    "#Mark same site status in Mysite column\n",
    "Partner=Beacon_tracker.copy()\n",
    "Partner.set_index('DU ID',inplace=True)\n",
    "Beacon_tracker['Mysite']=Beacon_tracker['Mysite'].map(Partner['Cancel_type'])\n",
    "Beacon_tracker"
   ]
  },
  {
   "cell_type": "code",
   "execution_count": null,
   "metadata": {},
   "outputs": [],
   "source": [
    "#Find Site needs to be cancelled, 1. not going 2. have PO 3.related site is not going ethier \n",
    "logic1=(Beacon_tracker['Cancel_type']!='keep-going')\n",
    "logic2=Beacon_tracker['PO_exist']\n",
    "logic3=(Beacon_tracker['Mysite']!='keep-going')\n",
    "Cancel_table=Beacon_tracker[logic1&logic2&logic3]\n",
    "Cancel_table=Cancel_table.reset_index(drop=True)\n",
    "Cancel_table"
   ]
  },
  {
   "cell_type": "code",
   "execution_count": null,
   "metadata": {
    "scrolled": true
   },
   "outputs": [],
   "source": [
    "#Final check, Attached should be same as Full\n",
    "Cancel_table.groupby('Classification').size()"
   ]
  },
  {
   "cell_type": "code",
   "execution_count": null,
   "metadata": {},
   "outputs": [],
   "source": [
    "#Remove attached site(PO is not on attached site)\n",
    "logic4=(Cancel_table['Classification']!='Attached')\n",
    "Cacel_list=Cancel_table[logic4].reset_index(drop=True)\n"
   ]
  },
  {
   "cell_type": "code",
   "execution_count": null,
   "metadata": {},
   "outputs": [],
   "source": [
    "Cacel_list"
   ]
  },
  {
   "cell_type": "code",
   "execution_count": null,
   "metadata": {},
   "outputs": [],
   "source": [
    "writer = pd.ExcelWriter(r'D:\\\\06.FullBeacon\\\\Cancel_table2.xlsx')\n",
    "Cancel_table.to_excel(writer,'Sheet1')\n",
    "writer.save()"
   ]
  },
  {
   "cell_type": "code",
   "execution_count": null,
   "metadata": {},
   "outputs": [],
   "source": []
  }
 ],
 "metadata": {
  "kernelspec": {
   "display_name": "Python 3",
   "language": "python",
   "name": "python3"
  },
  "language_info": {
   "codemirror_mode": {
    "name": "ipython",
    "version": 3
   },
   "file_extension": ".py",
   "mimetype": "text/x-python",
   "name": "python",
   "nbconvert_exporter": "python",
   "pygments_lexer": "ipython3",
   "version": "3.6.5"
  }
 },
 "nbformat": 4,
 "nbformat_minor": 2
}
