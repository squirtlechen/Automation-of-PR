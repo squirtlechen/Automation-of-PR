{
 "cells": [
  {
   "cell_type": "code",
   "execution_count": null,
   "metadata": {},
   "outputs": [],
   "source": [
    "#liberary\n",
    "import pandas as pd\n",
    "from pandas import ExcelWriter\n",
    "from pandas import ExcelFile\n",
    "from selenium import webdriver\n",
    "import time\n",
    "import datetime\n",
    "import numpy as np\n",
    "import ipywidgets as widgets\n",
    "import glob\n",
    "import os"
   ]
  },
  {
   "cell_type": "code",
   "execution_count": null,
   "metadata": {},
   "outputs": [],
   "source": [
    "#Put 1 file in the folder, only read first one \n",
    "tracker_path='D:\\\\06.FullBeacon\\\\PO tracker'\n",
    "file_list=glob.glob(tracker_path+'/*.xlsm')\n",
    "PO_tracker=pd.read_excel(file_list[0],sheet_name='Report',skiprows=[0,2],header=[0],usecols='A,B,D,G,H,I,J,K,L,T,AO,AR,BC,BD,BE,BF,BG,BH,CC,CD,CE')\n",
    "PO_tracker=PO_tracker.rename(columns = {'FB360 Commissioned':'Plan End Date','FB360 Commissioned.1':'Actual End Date'})"
   ]
  },
  {
   "cell_type": "code",
   "execution_count": null,
   "metadata": {},
   "outputs": [],
   "source": [
    "Beacon_tracker=PO_tracker[(PO_tracker['Site Activity']=='Full Beacon') | (PO_tracker['Site Activity']=='2Step') | (PO_tracker['Site Activity']=='2Step Cold Build')]\n",
    "Beacon_tracker"
   ]
  },
  {
   "cell_type": "markdown",
   "metadata": {},
   "source": [
    "Creating the mark column for sorting"
   ]
  },
  {
   "cell_type": "code",
   "execution_count": null,
   "metadata": {},
   "outputs": [],
   "source": [
    "#Classification of Beacon only or with 2step\n",
    "def Classify(x):\n",
    "    if '2Step'not in x:\n",
    "        step_name=x+'2Step'\n",
    "        if step_name in np.array(Beacon_tracker['DU ID']):\n",
    "            return 'Full'\n",
    "        else:\n",
    "            return 'Beacon only'\n",
    "    elif '2Step' in x:\n",
    "        beacon_name=x.replace(\"2Step\", \"\")\n",
    "        if beacon_name in np.array(Beacon_tracker['DU ID']):\n",
    "            return 'Attached'\n",
    "        else:\n",
    "            return '2Step only'\n",
    "Beacon_tracker['Classification']=Beacon_tracker['DU ID'].apply(Classify)\n",
    "Beacon_tracker.groupby('Classification').size()"
   ]
  },
  {
   "cell_type": "code",
   "execution_count": null,
   "metadata": {
    "scrolled": false
   },
   "outputs": [],
   "source": [
    "#Classification by Plan date\n",
    "PO_date=2\n",
    "cancel_point= pd.Timestamp.today() + pd.Timedelta(2, unit='M')\n",
    "raise_point= pd.Timestamp.today() + pd.Timedelta(PO_date, unit='M')\n",
    "today= pd.Timestamp.today()\n",
    "def plan_status(row):\n",
    "    if pd.notnull(row['Actual End Date']):\n",
    "        return 'Finished'\n",
    "    else:\n",
    "        if pd.isnull(row['Plan End Date']):\n",
    "            return 'de-instructed'\n",
    "        elif row['Plan End Date'] > cancel_point:\n",
    "            return 'Plan date postponed'\n",
    "        elif ((row['Plan End Date'] <= raise_point)&(row['Plan End Date']>today)):\n",
    "            return ('Process in '+str(PO_date)+' month')\n",
    "        else:\n",
    "            return 'Others'\n",
    "Beacon_tracker['Plan_status'] = Beacon_tracker.apply (lambda row: plan_status(row),axis=1)    \n",
    "Beacon_tracker.groupby('Plan_status').size()"
   ]
  },
  {
   "cell_type": "code",
   "execution_count": null,
   "metadata": {},
   "outputs": [],
   "source": [
    "#Return related site to mysite column\n",
    "def mysite(x):\n",
    "    if '2Step'not in x:\n",
    "        step_name=x+'2Step'\n",
    "        if step_name in np.array(Beacon_tracker['DU ID']):\n",
    "            return step_name\n",
    "        else:\n",
    "            return np.nan\n",
    "    if '2Step' in x:\n",
    "        beacon_name=x.replace(\"2Step\", \"\")\n",
    "        if beacon_name in np.array(Beacon_tracker['DU ID']):\n",
    "            return beacon_name\n",
    "        else:\n",
    "            return np.nan\n",
    "Beacon_tracker['Mysite']=Beacon_tracker['DU ID'].apply(mysite)"
   ]
  },
  {
   "cell_type": "code",
   "execution_count": null,
   "metadata": {},
   "outputs": [],
   "source": [
    "#replace site ID to the site status\n",
    "Partner=Beacon_tracker.copy()\n",
    "Partner.set_index('DU ID',inplace=True)\n",
    "Beacon_tracker['Mysite']=Beacon_tracker['Mysite'].map(Partner['Plan_status'])"
   ]
  },
  {
   "cell_type": "code",
   "execution_count": null,
   "metadata": {
    "scrolled": false
   },
   "outputs": [],
   "source": [
    "#Check PO status\n",
    "Temp_active=Beacon_tracker['Active BTS I&C PO No.'].apply(lambda x: np.nan if 'Cancel' in str(x) else x)\n",
    "Temp_passive=Beacon_tracker['Passive Partner Build PO'].apply(lambda x: np.nan if 'Cancel' in str(x) else x)\n",
    "Need_2Step_PO=Beacon_tracker['Mysite'].apply(lambda x: True if x=='Finished'else False)\n",
    "No_2Step_PO=pd.isnull(Beacon_tracker['Partner 2STEP to FB PO'])\n",
    "Step_PO_noneed= ~(No_2Step_PO & Need_2Step_PO)\n",
    "Beacon_tracker['PO_Covered']=((pd.notnull(Temp_active) | pd.notnull(Temp_passive)) & Step_PO_noneed)\n",
    "Beacon_tracker.groupby(['Plan_status','Classification','PO_Covered']).size()"
   ]
  },
  {
   "cell_type": "markdown",
   "metadata": {},
   "source": [
    "Creating Cancel Table(Full information) & PO_to_cancel(For cancel program)"
   ]
  },
  {
   "cell_type": "code",
   "execution_count": null,
   "metadata": {
    "scrolled": true
   },
   "outputs": [],
   "source": [
    "#Find Site needs to be cancelled, 1. not going 2. have PO 3.related site is not going ethier \n",
    "logic1=((Beacon_tracker['Plan_status']=='de-instructed') | (Beacon_tracker['Plan_status']=='Plan date postponed'))\n",
    "logic2=Beacon_tracker['PO_Covered']\n",
    "logic3=((Beacon_tracker['Mysite']=='de-instructed') | (Beacon_tracker['Mysite']=='Plan date postponed')| pd.isnull(Beacon_tracker['Mysite']))\n",
    "Cancel_table=Beacon_tracker[logic1&logic2&logic3]\n",
    "Cancel_table=Cancel_table.reset_index(drop=True)\n",
    "Cancel_table"
   ]
  },
  {
   "cell_type": "code",
   "execution_count": null,
   "metadata": {
    "scrolled": true
   },
   "outputs": [],
   "source": [
    "#Final check, Attached should be same as Full\n",
    "Cancel_table.groupby('Classification').size()"
   ]
  },
  {
   "cell_type": "code",
   "execution_count": null,
   "metadata": {},
   "outputs": [],
   "source": [
    "#Remove attached site(PO is not on attached site)\n",
    "logic4=(Cancel_table['Classification']!='Attached')\n",
    "Temp_cancel=Cancel_table[logic4].reset_index(drop=True)\n",
    "#Active PO\n",
    "Active_list=pd.DataFrame(columns=['PO NO.','Site Code','Reason'])\n",
    "Active_list['PO NO.']=Temp_cancel['Active BTS I&C PO No.']\n",
    "Active_list['Site Code']=Temp_cancel['DU ID']\n",
    "Active_list['Reason']=Temp_cancel['Plan_status']\n",
    "#Passive PO\n",
    "Passive_list=pd.DataFrame(columns=['PO NO.','Site Code','Reason'])\n",
    "Passive_list['PO NO.']=Temp_cancel['Passive Partner Build PO']\n",
    "Passive_list['Site Code']=Temp_cancel['DU ID']\n",
    "Passive_list['Reason']=Temp_cancel['Plan_status']\n",
    "#Combine Table and organize data\n",
    "PO_to_cancel=Active_list.append(Passive_list)\n",
    "PO_to_cancel=PO_to_cancel.dropna()\n",
    "PO_to_cancel['PO NO.']=PO_to_cancel['PO NO.'].apply(lambda x : x.strip('(old)').strip())\n",
    "PO_to_cancel['PO NO.']=PO_to_cancel['PO NO.'].apply(lambda x : x.strip('(new)').strip())\n",
    "PO_to_cancel=PO_to_cancel.drop_duplicates()\n",
    "PO_to_cancel=PO_to_cancel.sort_values('Reason').reset_index(drop=True)"
   ]
  },
  {
   "cell_type": "markdown",
   "metadata": {},
   "source": [
    "Creating PO table"
   ]
  },
  {
   "cell_type": "code",
   "execution_count": null,
   "metadata": {},
   "outputs": [],
   "source": [
    "logic5=(Beacon_tracker['Plan_status']==('Process in '+str(PO_date)+' month'))\n",
    "PO_table=Beacon_tracker[logic5]"
   ]
  },
  {
   "cell_type": "markdown",
   "metadata": {},
   "source": [
    "Writing in EXCEL"
   ]
  },
  {
   "cell_type": "code",
   "execution_count": null,
   "metadata": {},
   "outputs": [],
   "source": [
    "Today=datetime.date.today()\n",
    "Cancel_sheetname='Cancel'+Today.strftime('%d%m%Y')\n",
    "PO_sheetname='PO'+Today.strftime('%d%m%Y')\n",
    "Cancel_filename_with_route=r'D:\\\\06.FullBeacon\\\\FB_Manager_'+Today.strftime('%d%m%Y')+'.xlsx'\n",
    "writer = pd.ExcelWriter(Cancel_filename_with_route)\n",
    "PO_table.to_excel(writer,PO_sheetname)\n",
    "Cancel_table.to_excel(writer,Cancel_sheetname)\n",
    "PO_to_cancel.to_excel(writer,'sheet1')\n",
    "\n",
    "writer.save()"
   ]
  },
  {
   "cell_type": "markdown",
   "metadata": {},
   "source": [
    "PR_template filler under developing"
   ]
  },
  {
   "cell_type": "code",
   "execution_count": null,
   "metadata": {},
   "outputs": [],
   "source": []
  },
  {
   "cell_type": "code",
   "execution_count": null,
   "metadata": {},
   "outputs": [],
   "source": []
  },
  {
   "cell_type": "code",
   "execution_count": null,
   "metadata": {},
   "outputs": [],
   "source": [
    "item_base=r'D:\\\\03.Purchase Reqeust\\\\Database_and_Configuration\\\\FB_PR_item.xlsx'\n",
    "AGF = pd.read_excel(item_base, sheet_name='AGF',skiprows=[1,2],dtype=str).replace('nan', np.nan).dropna(how='all')\n",
    "ART = pd.read_excel(item_base, sheet_name='ART',skiprows=[1,2],dtype=str).replace('nan', np.nan).dropna(how='all')\n",
    "AST = pd.read_excel(item_base, sheet_name='AST',skiprows=[1,2],dtype=str).replace('nan', np.nan).dropna(how='all')\n",
    "RT = pd.read_excel(item_base, sheet_name='RT',skiprows=[1,2],dtype=str).replace('nan', np.nan).dropna(how='all')\n",
    "ST = pd.read_excel(item_base, sheet_name='ST',skiprows=[1,2],dtype=str).replace('nan', np.nan).dropna(how='all')\n",
    "GFM1 = pd.read_excel(item_base, sheet_name='GFM1',skiprows=[1,2],dtype=str).replace('nan', np.nan).dropna(how='all')\n",
    "GFM2 = pd.read_excel(item_base, sheet_name='GFM2',skiprows=[1,2],dtype=str).replace('nan', np.nan).dropna(how='all')\n",
    "GFM3 = pd.read_excel(item_base, sheet_name='GFM3',skiprows=[1,2],dtype=str).replace('nan', np.nan).dropna(how='all')\n",
    "GFM4 = pd.read_excel(item_base, sheet_name='GFM4',skiprows=[1,2],dtype=str).replace('nan', np.nan).dropna(how='all')\n",
    "GFM5 = pd.read_excel(item_base, sheet_name='GFM5',skiprows=[1,2],dtype=str).replace('nan', np.nan).dropna(how='all')\n",
    "GFM6 = pd.read_excel(item_base, sheet_name='GFM6',skiprows=[1,2],dtype=str).replace('nan', np.nan).dropna(how='all')\n",
    "MWR = pd.read_excel(item_base, sheet_name='MWR',skiprows=[1,2],dtype=str).replace('nan', np.nan).dropna(how='all')\n",
    "RE2 = pd.read_excel(item_base, sheet_name='RE2',skiprows=[1,2],dtype=str).replace('nan', np.nan).dropna(how='all')\n",
    "REWR = pd.read_excel(item_base, sheet_name='REWR',skiprows=[1,2],dtype=str).replace('nan', np.nan).dropna(how='all')"
   ]
  },
  {
   "cell_type": "code",
   "execution_count": null,
   "metadata": {},
   "outputs": [],
   "source": [
    "GFM6"
   ]
  },
  {
   "cell_type": "code",
   "execution_count": null,
   "metadata": {},
   "outputs": [],
   "source": []
  }
 ],
 "metadata": {
  "kernelspec": {
   "display_name": "Python 3",
   "language": "python",
   "name": "python3"
  },
  "language_info": {
   "codemirror_mode": {
    "name": "ipython",
    "version": 3
   },
   "file_extension": ".py",
   "mimetype": "text/x-python",
   "name": "python",
   "nbconvert_exporter": "python",
   "pygments_lexer": "ipython3",
   "version": "3.6.5"
  }
 },
 "nbformat": 4,
 "nbformat_minor": 2
}
