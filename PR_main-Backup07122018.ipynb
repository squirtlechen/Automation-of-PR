{
 "cells": [
  {
   "cell_type": "markdown",
   "metadata": {},
   "source": [
    "Vodafone PR lauch V1.0"
   ]
  },
  {
   "cell_type": "code",
   "execution_count": null,
   "metadata": {},
   "outputs": [],
   "source": [
    "#liberary\n",
    "import pandas as pd\n",
    "from pandas import ExcelWriter\n",
    "from pandas import ExcelFile\n",
    "from selenium import webdriver\n",
    "import time\n",
    "from selenium.webdriver.common.keys import Keys\n",
    "from selenium.webdriver.common.action_chains import ActionChains\n",
    "import numpy as np\n",
    "import math\n",
    "import xlwings as xw\n",
    "import datetime\n",
    "import glob\n",
    "import os\n"
   ]
  },
  {
   "cell_type": "code",
   "execution_count": null,
   "metadata": {},
   "outputs": [],
   "source": [
    "def log_in(Web,person):\n",
    "    bookmark = {'ibuy': \"http://w3.huawei.com/ibuy/menu.do?actionFlag=getMenu&isIntroStr=yes\", 'ERP_PM': \"http://w3.huawei.com/pm/\", 'ERP_PC': \"http://w3.huawei.com/pc/#!common/pages/home.html\",'ISDP': \"http://app.huawei.com/sdcp/portalNew\",'ECOR': \"http://w3.huawei.com/ewe/ecor/#!ecor/ukvr/approve/myToDo.html\"}\n",
    "    ID_password={}\n",
    "    try:\n",
    "        url=bookmark[Web]\n",
    "    except KeyError :\n",
    "        print(\"please fill in correct web:'ibuy','ERP_PM','ERP_PC','ISDP','ECOR'\")\n",
    "    try:\n",
    "        ID=ID_password[person][0]\n",
    "        password=ID_password[person][1]\n",
    "    except KeyError :\n",
    "        print(\"please fill in correct name:'Yifan','Yuqi','Wenji','Junjun','Mengmeng','Yizhe'\")    \n",
    "    driver.set_page_load_timeout(10)\n",
    "    driver.get(url)\n",
    "    driver.maximize_window()\n",
    "    time.sleep(2)\n",
    "    driver.find_element_by_name(\"uid\").send_keys(ID)\n",
    "    driver.find_element_by_name(\"password\").send_keys(password)\n",
    "    driver.find_element_by_name(\"password\").send_keys(Keys.ENTER)"
   ]
  },
  {
   "cell_type": "code",
   "execution_count": null,
   "metadata": {},
   "outputs": [],
   "source": [
    "def turn_list(x):\n",
    "    y = list(set(list(x['Product Code'])))\n",
    "    y.sort(reverse=False)\n",
    "    return y\n",
    "def turn_list_AP_code(x):\n",
    "    y = list(set(list(x['Activity Code*'])))\n",
    "    return y\n",
    "def turn_list_AP_name(x):\n",
    "    y = list(set(list(x['Activity Name*'])))\n",
    "    return y\n",
    "def HWPO_Check(x):\n",
    "    if len(x)!= 14:\n",
    "        y='000'+str(int(x))\n",
    "    else:\n",
    "        y=x\n",
    "    return y"
   ]
  },
  {
   "cell_type": "markdown",
   "metadata": {},
   "source": [
    "1.Read File & Check Trigger Status"
   ]
  },
  {
   "cell_type": "code",
   "execution_count": null,
   "metadata": {},
   "outputs": [],
   "source": [
    "#Mutiple input\n",
    "path_PR =r'D:\\03.Purchase Reqeust\\01.Request'\n",
    "allFiles = glob.glob(path_PR+ \"/*.xlsx\")\n",
    "Pr_template = pd.DataFrame()\n",
    "list_files = []\n",
    "for route in allFiles:\n",
    "    Pr_temp = pd.read_excel(route, sheet_name='PR ENG',skiprows=[1,2],dtype=str)\n",
    "    Pr_temp = Pr_temp.replace('nan', np.nan).dropna(how='all')\n",
    "    Pr_temp['CONTRACT_NO']=Pr_temp['CONTRACT_NO'].map(lambda x : HWPO_Check(x))\n",
    "    Pr_template=Pr_template.append(Pr_temp, ignore_index=True)\n",
    "len(Pr_template)"
   ]
  },
  {
   "cell_type": "code",
   "execution_count": null,
   "metadata": {},
   "outputs": [],
   "source": [
    "HW_PO_list=list(set(list(Pr_template['CONTRACT_NO'])))\n",
    "len(HW_PO_list)"
   ]
  },
  {
   "cell_type": "markdown",
   "metadata": {},
   "source": [
    "Check_trigger_rate_and_product service_code "
   ]
  },
  {
   "cell_type": "code",
   "execution_count": null,
   "metadata": {},
   "outputs": [],
   "source": [
    "#input: contract number, result: trigger rate,Service porduct code(ERP-PC)\n",
    "PO_table_columns = ['HW_PO','Service_code', 'Trigger rate','Remark']\n",
    "PO_trigger_table = pd.DataFrame(columns=PO_table_columns)\n",
    "driver = webdriver.Chrome(\"C:/Users/ywx610506/Documents/chromedriver.exe\")\n",
    "log_in('ERP_PC',\"Junjun\")\n",
    "time.sleep(3)\n",
    "driver.find_element_by_css_selector(\"#leftSiteMapTree_12_span\").click()\n",
    "driver.find_element_by_css_selector(\"#leftSiteMapTree_17_span\").click()\n",
    "time.sleep(2)\n",
    "count=0\n",
    "One_shoot=True\n",
    "for PO in HW_PO_list:\n",
    "    driver.find_element_by_css_selector(\"#contractNo\").send_keys(PO)\n",
    "    driver.find_element_by_css_selector(\"#btnSearchSer\").click()\n",
    "    time.sleep(1)\n",
    "    while One_shoot:\n",
    "        try: \n",
    "            driver.find_element_by_css_selector(\"#srvMonitorGridIdPager > div > div.jalor-pager-group.pagesizes > select\").click()\n",
    "            driver.find_element_by_css_selector(\"#srvMonitorGridIdPager > div > div.jalor-pager-group.pagesizes > select\").send_keys(Keys.DOWN)\n",
    "            driver.find_element_by_css_selector(\"#srvMonitorGridIdPager > div > div.jalor-pager-group.pagesizes > select\").send_keys(Keys.ENTER)\n",
    "            One_shoot=False\n",
    "            time.sleep(2)\n",
    "        except Exception:\n",
    "            break\n",
    "    try:\n",
    "        row=0\n",
    "        while True:\n",
    "            try:\n",
    "                css_row='[_row='+'\"'+str(row)+'\"]'\n",
    "                driver.find_element_by_css_selector(css_row).find_element_by_css_selector('[_col=\"1\"]').click()\n",
    "                Trigger_rate=driver.find_element_by_css_selector(css_row).find_element_by_css_selector('[_col=\"9\"]')\n",
    "                Product_code=driver.find_element_by_css_selector(css_row).find_element_by_css_selector('[_col=\"4\"]')\n",
    "                code=Product_code.text\n",
    "                rate=Trigger_rate.text\n",
    "                ERP_PM_data = pd.DataFrame([[PO,code,rate,\"\"]], columns=PO_table_columns)\n",
    "                PO_trigger_table=PO_trigger_table.append(ERP_PM_data)\n",
    "                row=row+1\n",
    "            except Exception:\n",
    "                break\n",
    "        driver.find_element_by_css_selector('[_row=\"0\"]').find_element_by_css_selector('[_col=\"1\"]').click()\n",
    "        driver.find_element_by_css_selector(\"#serMonitorFormId > div.jalor-operate > span.init.jalor-button.reset\").click() \n",
    "        time.sleep(1)\n",
    "    except Exception:\n",
    "        mark=\"N/A\"\n",
    "        ERP_PM_data = pd.DataFrame([[PO,\"\",\"\",mark]], columns=PO_table_columns)\n",
    "        PO_trigger_table=PO_trigger_table.append(ERP_PM_data)\n",
    "        driver.find_element_by_css_selector(\"#serMonitorFormId > div.jalor-operate > span.init.jalor-button.reset\").click()\n",
    "        time.sleep(1)\n",
    "    count=count+1\n",
    "    if count % 10 == 0:\n",
    "        print(\"Finished\",count,\"contracts, total:\",len(HW_PO_list),\"contracts\")\n",
    "\n",
    "print(\"Finish all\",count,\"contracts\")\n",
    "driver.quit()\n"
   ]
  },
  {
   "cell_type": "code",
   "execution_count": null,
   "metadata": {},
   "outputs": [],
   "source": [
    "#Create all triggered PO table\n",
    "def trigger_del(x):\n",
    "    if x == '100.00':\n",
    "        return True\n",
    "    else : \n",
    "        return False \n",
    "PO_trigger_table['Delete']=PO_trigger_table['Trigger rate'].apply(trigger_del)\n",
    "PO_trigger_table.set_index(keys=['HW_PO','Service_code'],inplace=True)\n",
    "Search_PO_list=list(set(list(PO_trigger_table.index.get_level_values('HW_PO'))))\n",
    "PO_invalid=pd.DataFrame(columns=['PO','Status'])\n",
    "for PO in Search_PO_list:\n",
    "    if False in list(PO_trigger_table.loc[PO]['Delete']):\n",
    "        None\n",
    "    else: \n",
    "        PO_data = pd.DataFrame([[PO,\"ALL Triggered\"]], columns=['PO','Status'])\n",
    "        PO_invalid=PO_invalid.append(PO_data)\n",
    "if len(PO_invalid)>0:\n",
    "    print(\"Some PO can't be used, return to project team\")\n",
    "else: \n",
    "    print(\"Trigger rate test pass\")"
   ]
  },
  {
   "cell_type": "code",
   "execution_count": null,
   "metadata": {},
   "outputs": [],
   "source": [
    "#Create product code can't be used table\n",
    "Product_used=pd.DataFrame(columns=['PO','Product_code','Status'])\n",
    "for PO in Search_PO_list:\n",
    "    Porduct_code_list=list(set(list(PO_trigger_table.loc[PO].index)))\n",
    "    for Product_code in Porduct_code_list:\n",
    "        trigger_list=list(set(list(pd.Series(PO_trigger_table.loc[PO].loc[Product_code]['Delete']))))\n",
    "        if False in trigger_list:\n",
    "            None\n",
    "        else: \n",
    "            Product_code_data = pd.DataFrame([[PO,Product_code,\"ALL Triggered\"]], columns=['PO','Product_code','Status'])\n",
    "            Product_used=Product_used.append(Product_code_data)"
   ]
  },
  {
   "cell_type": "code",
   "execution_count": null,
   "metadata": {
    "scrolled": true
   },
   "outputs": [],
   "source": [
    "#Write in EXCEL\n",
    "now=datetime.datetime.now()\n",
    "Trigger_file_name=\"Trigger_rate_check\"+now.strftime(\"%H%M\")+\"_\"+str(datetime.date.today())+'.xlsx'\n",
    "Trigger_route='D:\\\\03.Purchase Reqeust\\\\02.Process\\\\'+Trigger_file_name\n",
    "writer = pd.ExcelWriter(Trigger_route)\n",
    "PO_trigger_table.to_excel(writer,'ERP_PC')\n",
    "PO_invalid.to_excel(writer,'Used_PO')\n",
    "Product_used.to_excel(writer,'Partial_Used')\n",
    "writer.save()\n",
    "PO_trigger_table"
   ]
  },
  {
   "cell_type": "code",
   "execution_count": null,
   "metadata": {},
   "outputs": [],
   "source": [
    "#transfer PO list to str for input\n",
    "def PO_list_to_str(x):\n",
    "    all_PO_str=\"\"\n",
    "    for PO_n in range(0,len(x)):\n",
    "        if PO_n == 0:\n",
    "            all_PO_str=x[PO_n]\n",
    "        else:\n",
    "            all_PO_str=all_PO_str+\",\"+x[PO_n]\n",
    "    return all_PO_str "
   ]
  },
  {
   "cell_type": "code",
   "execution_count": null,
   "metadata": {},
   "outputs": [],
   "source": [
    "def Service_code_search(HWPO_str):\n",
    "    #input: contract number, result: Service porduct code export file route(unpublished)(From ERP-PM)\n",
    "    log_in('ERP_PM',\"Yifan\")\n",
    "    menu=driver.find_element_by_css_selector('[data-menu-id=\"1001834\"]')\n",
    "    ActionChains(driver).move_to_element(menu).perform()\n",
    "    hidden_submenu=driver.find_element_by_css_selector('[data-menu-id=\"1001839\"]')\n",
    "    ActionChains(driver).move_to_element(menu).click(hidden_submenu).perform()\n",
    "    time.sleep(3)\n",
    "    driver.find_element_by_css_selector('[id=\"hwContractNo\"]').send_keys(HWPO_str)\n",
    "    driver.find_element_by_css_selector('[id=\"showmodeldetail\"]').click()\n",
    "    time.sleep(1)\n",
    "    driver.find_element_by_css_selector('[id=\"btnSearchModelDetail\"]').click()\n",
    "    driver.find_element_by_css_selector('[id=\"btnModelExport\"]').click()\n",
    "    time.sleep(1)\n",
    "    driver.find_element_by_css_selector('#jalor_dialog1 > div.jalor-dialog-body > div > div.jalor-dialog-content > a').click()\n",
    "    time.sleep(3)\n",
    "    driver.switch_to.window(driver.window_handles[1])\n",
    "    time.sleep(1)\n",
    "    status=driver.find_element_by_css_selector('[_row=\"0\"]').find_element_by_css_selector('[_col=\"5\"]')\n",
    "    while status.text!=\"Succeed\":\n",
    "        driver.find_element_by_css_selector(\"#_item1 > span\").click()\n",
    "        time.sleep(5)\n",
    "        status=driver.find_element_by_css_selector('[_row=\"0\"]').find_element_by_css_selector('[_col=\"5\"]')\n",
    "    Service_code_file_name_element=driver.find_element_by_css_selector(\" #taskExportGridTable > tbody.igrid-data > tr:nth-child(2) > td.grid-cell.taskExportGrid-col2.left > a\")\n",
    "    Service_code_name= Service_code_file_name_element.text\n",
    "    driver.find_element_by_css_selector('[_row=\"0\"]').find_element_by_css_selector('[_col=\"2\"]').find_element_by_css_selector('[class=\"link-special\"]').click()\n",
    "    time.sleep(5)\n",
    "    driver.quit()\n",
    "    route_Service_code_file=\"C:\\\\Users\\\\ywx610506\\\\Downloads\\\\\" + Service_code_name\n",
    "    return route_Service_code_file\n",
    "\n",
    "driver = webdriver.Chrome(\"C:/Users/ywx610506/Documents/chromedriver.exe\")\n",
    "HWPO_input=PO_list_to_str(HW_PO_list)\n",
    "route_HW_all=Service_code_search(HWPO_input)    \n",
    "Service_Code = pd.read_excel(route_HW_all, sheet_name='Detail',dtype=str)\n",
    "\n",
    "if len(Service_Code)>0:\n",
    "    Service_Code['Huawei Contract No']=Service_Code['Huawei Contract No'].map(lambda x : HWPO_Check(x))\n",
    "    HWPO_code_dict=dict(Service_Code.groupby('Huawei Contract No').apply(turn_list))\n",
    "else:\n",
    "    HWPO_code_dict={}\n",
    "HWPO_code_dict"
   ]
  },
  {
   "cell_type": "code",
   "execution_count": null,
   "metadata": {},
   "outputs": [],
   "source": [
    "Product_used.set_index(keys=['PO'],inplace=True)\n",
    "if len(Product_used) > 0:\n",
    "    Modify_PO_list=list(set(list(Product_used.index)))\n",
    "    for PO in Modify_PO_list:\n",
    "        Product_code_list=HWPO_code_dict[PO]\n",
    "        Remove_list=list(set(list(pd.Series(Product_used.loc[PO]['Product_code']))))\n",
    "        for code in Remove_list:\n",
    "            Product_code_list.remove(code)\n",
    "            HWPO_code_dict[PO]=Product_code_list\n",
    "HWPO_code_dict"
   ]
  },
  {
   "cell_type": "markdown",
   "metadata": {},
   "source": [
    "2. AP mapping-RFQ"
   ]
  },
  {
   "cell_type": "code",
   "execution_count": null,
   "metadata": {},
   "outputs": [],
   "source": [
    "#4016737 MORAN\n",
    "AP_route = 'D:\\\\03.Purchase Reqeust\\\\Database_and_Configuration\\\\AP_4016737.xls'"
   ]
  },
  {
   "cell_type": "code",
   "execution_count": null,
   "metadata": {},
   "outputs": [],
   "source": [
    "#488690G Special\n",
    "AP_route = 'D:\\\\03.Purchase Reqeust\\\\Database_and_Configuration\\\\AP_488690G.xls'"
   ]
  },
  {
   "cell_type": "code",
   "execution_count": null,
   "metadata": {
    "scrolled": false
   },
   "outputs": [],
   "source": [
    "AP_template = pd.read_excel(AP_route, sheet_name='Template',skiprows=[0],dtype=str)\n",
    "AP_template = AP_template.replace('nan', np.nan).dropna(how='all')\n",
    "item_Acode_mapping=dict(AP_template.groupby('Item').apply(turn_list_AP_code))\n",
    "Acode_Aname_mapping=dict(AP_template.groupby('Activity Code*').apply(turn_list_AP_name))"
   ]
  },
  {
   "cell_type": "markdown",
   "metadata": {},
   "source": [
    "Filling in Hang A template-RFQ"
   ]
  },
  {
   "cell_type": "code",
   "execution_count": null,
   "metadata": {},
   "outputs": [],
   "source": [
    "#Fill in Hang A message, file:D:\\03.Purchase Reqeust\\Database_and_Configuration\\ERP_PM_Hang_A_template_05102018.xlsm\n",
    "def fill_in_HangA(dataframe, category):\n",
    "    app=xw.App(visible=True,add_book=False)\n",
    "    wb=app.books.open(r'D:\\03.Purchase Reqeust\\Database_and_Configuration\\ERP_PM_Hang_A_template_05102018.xlsm')\n",
    "    for x in range(0,len(dataframe)):\n",
    "        sub_code=\"B\"+str(int(x+4))\n",
    "        DU_ID=\"C\"+str(int(x+4))\n",
    "        Task_code=\"E\"+str(int(x+4))\n",
    "        Task_type=\"F\"+str(int(x+4))\n",
    "        Task_name=\"G\"+str(int(x+4))\n",
    "        Qty=\"H\"+str(int(x+4))\n",
    "        service_code=\"I\"+str(int(x+4))\n",
    "        Strategy=\"J\"+str(int(x+4))\n",
    "        HWPO=\"O\"+str(int(x+4)) \n",
    "        \n",
    "        wb.sheets['Task'].range(sub_code).value=dataframe['SUB_PROJECT_CODE'][x]\n",
    "        wb.sheets['Task'].range(DU_ID).value=dataframe['DU_CODE'][x]\n",
    "        wb.sheets['Task'].range(Task_code).value=item_Acode_mapping[dataframe['ITEM_CODE'][x]][0]\n",
    "        wb.sheets['Task'].range(Task_type).value=\"Activity\"\n",
    "        wb.sheets['Task'].range(Task_name).value=Acode_Aname_mapping[item_Acode_mapping[dataframe['ITEM_CODE'][x]][0]]\n",
    "        wb.sheets['Task'].range(Qty).value=dataframe['QTY'][x]\n",
    "        wb.sheets['Task'].range(service_code).value=dataframe['Service Product Code'][x]\n",
    "        wb.sheets['Task'].range(Strategy).value=\"Subcontractor\"\n",
    "        wb.sheets['Task'].range(HWPO).value=\"'\"+str(dataframe['CONTRACT_NO'][x])\n",
    "    category_name=category\n",
    "    now=datetime.datetime.now()\n",
    "    HangA_file_name=\"HangA\"+now.strftime(\"%H%M\")+\"_\"+category_name+\"_\"+str(datetime.date.today())+'.xlsm'\n",
    "    HangA_route='D:\\\\03.Purchase Reqeust\\\\02.Process\\\\'+HangA_file_name\n",
    "    wb.save(HangA_route)\n",
    "    wb.close()\n",
    "    app.quit()\n",
    "    return HangA_route\n",
    "DF_HangA_ALL = Pr_template[['SUB_PROJECT_CODE', 'DU_CODE', 'ITEM_CODE','QTY','CONTRACT_NO']].copy()\n",
    "DF_HangA_ALL['Service Product Code']=DF_HangA_ALL['CONTRACT_NO'].map(lambda x :str(HWPO_code_dict[x][0]))\n",
    "Row_series=DF_HangA_ALL['Service Product Code']\n",
    "DF_HangA_CT = DF_HangA_ALL[(Row_series=='9221250') | (Row_series=='9221251') | (Row_series=='9221519')].reset_index(drop=True)\n",
    "DF_HangA_NonCT = DF_HangA_ALL[(Row_series!='9221250') & (Row_series!='9221251') & (Row_series!='9221519')].reset_index(drop=True)\n",
    "if len(DF_HangA_CT)>0:\n",
    "    HangA_CT_route=fill_in_HangA(DF_HangA_CT, 'CT')\n",
    "if len(DF_HangA_NonCT)>0:\n",
    "    HangA_NonCT_route=fill_in_HangA(DF_HangA_NonCT, 'NonCT')"
   ]
  },
  {
   "cell_type": "markdown",
   "metadata": {},
   "source": [
    "Create A"
   ]
  },
  {
   "cell_type": "code",
   "execution_count": null,
   "metadata": {},
   "outputs": [],
   "source": [
    "def fill_in_CreateA(route, category):\n",
    "    HangA_temp = pd.read_excel(route, sheet_name='Task',skiprows=[0,1])\n",
    "    HangA_temp = HangA_temp.dropna(how='all')\n",
    "    Group_HangA = HangA_temp[['Sub-Project Code', 'Task Name', 'Task Code','Service Product Code']].copy()\n",
    "    Group_HangA['Qty'] = int(20)\n",
    "    Group_HangA['Total'] = Group_HangA.groupby(['Task Code', 'Service Product Code'])['Qty'].transform('sum')\n",
    "    Group_HangA = Group_HangA.drop_duplicates(subset=['Task Code', 'Service Product Code']).reset_index(drop=True)\n",
    "    app=xw.App(visible=True,add_book=False)\n",
    "    wb=app.books.open(r'D:\\03.Purchase Reqeust\\Database_and_Configuration\\ERP_PM_Create_A_template_08102018.xlsm')\n",
    "    for x in range(0,len(Group_HangA)):\n",
    "        sub_code=\"B\"+str(int(x+4))\n",
    "        Task_name=\"D\"+str(int(x+4))\n",
    "        Task_code=\"E\"+str(int(x+4))\n",
    "        service_code=\"F\"+str(int(x+4))\n",
    "        Strategy=\"H\"+str(int(x+4))\n",
    "        Qty=\"J\"+str(int(x+4))\n",
    "        \n",
    "        wb.sheets['Sheet1'].range(sub_code).value=Group_HangA['Sub-Project Code'][x]\n",
    "        wb.sheets['Sheet1'].range(Task_name).value=Group_HangA['Task Name'][x]\n",
    "        wb.sheets['Sheet1'].range(Task_code).value=Group_HangA['Task Code'][x]\n",
    "        wb.sheets['Sheet1'].range(service_code).value=Group_HangA['Service Product Code'][x]\n",
    "        wb.sheets['Sheet1'].range(Strategy).value=\"Subcontractor\"\n",
    "        wb.sheets['Sheet1'].range(Qty).value=Group_HangA['Total'][x]\n",
    "    category_name=category\n",
    "    now=datetime.datetime.now()\n",
    "    CreateA_file_name=\"CreatA\"+now.strftime(\"%H%M\")+\"_\"+category_name+\"_\"+str(datetime.date.today())+'.xlsm'\n",
    "    CreateA_route='D:\\\\03.Purchase Reqeust\\\\02.Process\\\\'+CreateA_file_name\n",
    "    wb.save(CreateA_route)\n",
    "    wb.close()\n",
    "    app.quit()\n",
    "    return CreateA_route\n",
    "if len(DF_HangA_CT)>0:\n",
    "    CreateA_CT_route=fill_in_CreateA(HangA_CT_route, 'CT')\n",
    "if len(DF_HangA_NonCT)>0:\n",
    "    CreateA_NonCT_route=fill_in_CreateA(HangA_NonCT_route, 'NonCT')"
   ]
  },
  {
   "cell_type": "markdown",
   "metadata": {},
   "source": [
    "Correct PR-template"
   ]
  },
  {
   "cell_type": "code",
   "execution_count": null,
   "metadata": {},
   "outputs": [],
   "source": [
    "#Pr-template, correct Contract No. ,Department NO. ,Service Product Code\n",
    "SN=0\n",
    "for route in allFiles:\n",
    "    Pr_temp = pd.read_excel(route, sheet_name='PR ENG',skiprows=[1,2],dtype=str)\n",
    "    Pr_temp = Pr_temp.replace('nan', np.nan).dropna(how='all')\n",
    "    Pr_temp['CONTRACT_NO']=Pr_temp['CONTRACT_NO'].map(lambda x : HWPO_Check(x))\n",
    "    Pr_temp['DEPARTMENT_CODE']=Pr_temp['DEPARTMENT_CODE'].map(lambda x : \"'0\"+str(int(x)))\n",
    "    app=xw.App(visible=True,add_book=False)\n",
    "    wb=app.books.open(route)\n",
    "    for x in range(0,len(Pr_temp)):\n",
    "        DU_ID=\"O\"+str(int(x+4))\n",
    "        HWPO=\"E\"+str(int(x+4))\n",
    "        Departmet_code=\"N\"+str(int(x+4))\n",
    "        service_code=\"Z\"+str(int(x+4))\n",
    "        wb.sheets['PR ENG'].range(HWPO).value=\"'\"+str(Pr_temp['CONTRACT_NO'][x])\n",
    "        wb.sheets['PR ENG'].range(DU_ID).value=str(Pr_temp['DU_CODE'][x])\n",
    "        wb.sheets['PR ENG'].range(Departmet_code).value=Pr_temp['DEPARTMENT_CODE'][x]\n",
    "        wb.sheets['PR ENG'].range(service_code).value=HWPO_code_dict[Pr_temp['CONTRACT_NO'][x]][0]\n",
    "    sub_con_name=Pr_temp['ENGINEERING_NAME'][0]\n",
    "    now=datetime.datetime.now()\n",
    "    PR_file_name=\"PR\"+now.strftime(\"%H%M\")+str(SN)+\"_\"+sub_con_name+\"_\"+str(datetime.date.today())+'.xlsx'\n",
    "    Whole_route='D:\\\\03.Purchase Reqeust\\\\02.Process\\\\'+PR_file_name\n",
    "    SN=SN+1\n",
    "    wb.save(Whole_route)\n",
    "    wb.close()\n",
    "    app.quit()\n",
    "    "
   ]
  },
  {
   "cell_type": "markdown",
   "metadata": {},
   "source": [
    "Scenario Status"
   ]
  },
  {
   "cell_type": "code",
   "execution_count": null,
   "metadata": {},
   "outputs": [],
   "source": [
    "driver = webdriver.Chrome(\"C:/Users/ywx610506/Documents/chromedriver.exe\")\n",
    "log_in('ERP_PM',\"Yifan\")\n",
    "driver.implicitly_wait(10)\n",
    "driver.find_element_by_css_selector(\"#searchText > ul > li.current > p\").click()\n",
    "driver.find_element_by_css_selector(\"#searchKey\").send_keys('4016737')\n",
    "time.sleep(1)\n",
    "driver.find_element_by_css_selector(\"#searchKey\").send_keys(Keys.ENTER)\n",
    "driver.find_element_by_css_selector(\"#pm_subprojectTable > tbody.igrid-data > tr > td.grid-cell.pm_subproject-fzcol2.center > a\").click()\n",
    "time.sleep(2)\n",
    "Scenario_place=driver.find_element_by_css_selector(\"#subProjectScenarioLi > span > label\")\n",
    "Scenario_name=Scenario_place.text\n",
    "driver.quit()\n",
    "Scenario_name"
   ]
  },
  {
   "cell_type": "markdown",
   "metadata": {},
   "source": [
    "HangA_upload"
   ]
  },
  {
   "cell_type": "code",
   "execution_count": null,
   "metadata": {
    "scrolled": true
   },
   "outputs": [],
   "source": [
    "def upload_HangA(x):\n",
    "    driver.implicitly_wait(10)\n",
    "    log_in('ERP_PM',\"Yifan\")\n",
    "    time.sleep(2)\n",
    "    menu=driver.find_element_by_css_selector('[data-menu-id=\"1003331\"]')\n",
    "    ActionChains(driver).move_to_element(menu).perform()\n",
    "    hidden_submenu=driver.find_element_by_css_selector('[data-menu-id=\"1003381\"]')\n",
    "    ActionChains(driver).move_to_element(menu).click(hidden_submenu).perform()\n",
    "    driver.find_element_by_css_selector(\"#subProjectNo\").send_keys('4016737')\n",
    "    driver.find_element_by_css_selector('[id=\"btnSearch\"]').click()\n",
    "    time.sleep(1)\n",
    "    driver.find_element_by_css_selector('#searchSubProjectForWbsGrid_freeze_body > tbody > tr > td.gt-col-searchsubprojectforwbsgrid-chk > div > input').click()\n",
    "    driver.find_element_by_css_selector('[id=\"btnNext\"]').click()\n",
    "    driver.switch_to.window(driver.window_handles[1])\n",
    "    while True:\n",
    "        try:\n",
    "            WBS=driver.find_element_by_css_selector('[id=\"isc_0\"]').find_element_by_css_selector('[id=\"isc_60\"]').find_element_by_css_selector('[id=\"isc_5Ztable\"]').find_element_by_css_selector('[id=\"PlanManagerView$Hirc_valueCell0\"]')\n",
    "            if WBS.text==\"4016737\":\n",
    "                time.sleep(1)\n",
    "                break\n",
    "        except:\n",
    "            time.sleep(3)\n",
    "    driver.find_element_by_css_selector('#isc_2Q > table > tbody > tr > td > table').click()\n",
    "    time.sleep(3)\n",
    "    driver.switch_to.window(driver.window_handles[2])\n",
    "    file_input = driver.find_element_by_css_selector('[type=\"file\"]')\n",
    "    file_input.send_keys(x)\n",
    "    driver.find_element_by_css_selector('[class=\"plupload_button plupload_start\"]').click()\n",
    "    driver.switch_to.window(driver.window_handles[0])\n",
    "    menu=driver.find_element_by_css_selector('[data-menu-id=\"1320\"]')\n",
    "    ActionChains(driver).move_to_element(menu).perform()\n",
    "    hidden_submenu=driver.find_element_by_css_selector('[data-menu-id=\"110291\"]')\n",
    "    ActionChains(driver).move_to_element(menu).click(hidden_submenu).perform()\n",
    "    time.sleep(3)\n",
    "    while True:\n",
    "        driver.find_element_by_css_selector('[class=\"jalor-button default\"]').click()\n",
    "        time.sleep(1)\n",
    "        file_name=driver.find_element_by_css_selector('[_row=\"0\"]').find_element_by_css_selector('[_col=\"2\"]')\n",
    "        status=driver.find_element_by_css_selector('[_row=\"0\"]').find_element_by_css_selector('[_col=\"4\"]')\n",
    "        if file_name.text==os.path.basename(x) and status.text=='Succeed':\n",
    "            print(\"Hang_A_succeed\")\n",
    "            driver.quit()\n",
    "            break            \n",
    "        elif status.text!='In Process' and status.text!='Waiting':\n",
    "            print(\"please check error massage\")\n",
    "            break\n",
    "        else: \n",
    "            time.sleep(3)\n",
    "\n",
    "if Scenario_name=='Energy,IBS,LS,Network,POD (Pure Equipment),Wireless (Including TK)' and len(DF_HangA_NonCT)>0:\n",
    "    driver = webdriver.Chrome(\"C:/Users/ywx610506/Documents/chromedriver.exe\")\n",
    "    upload_HangA(HangA_NonCT_route)\n",
    "elif Scenario_name=='Managed Operation (CT)' and len(DF_HangA_CT)>0:\n",
    "    driver = webdriver.Chrome(\"C:/Users/ywx610506/Documents/chromedriver.exe\")\n",
    "    upload_HangA(HangA_CT_route)"
   ]
  },
  {
   "cell_type": "markdown",
   "metadata": {},
   "source": [
    "Batch"
   ]
  },
  {
   "cell_type": "code",
   "execution_count": null,
   "metadata": {},
   "outputs": [],
   "source": [
    "driver = webdriver.Chrome(\"C:/Users/ywx610506/Documents/chromedriver.exe\")\n",
    "driver.implicitly_wait(10)\n",
    "log_in('ERP_PM',\"Yifan\")\n",
    "time.sleep(2)\n",
    "menu=driver.find_element_by_css_selector('[data-menu-id=\"1003331\"]')\n",
    "ActionChains(driver).move_to_element(menu).perform()\n",
    "hidden_submenu=driver.find_element_by_css_selector('[data-menu-id=\"1003381\"]')\n",
    "ActionChains(driver).move_to_element(menu).click(hidden_submenu).perform()\n",
    "driver.find_element_by_css_selector(\"#subProjectNo\").send_keys('4016737')\n",
    "driver.find_element_by_css_selector('[id=\"btnSearch\"]').click()\n",
    "time.sleep(1)\n",
    "driver.find_element_by_css_selector('#searchSubProjectForWbsGrid_freeze_body > tbody > tr > td.gt-col-searchsubprojectforwbsgrid-chk > div > input').click()\n",
    "driver.find_element_by_css_selector('[id=\"btnNext\"]').click()\n",
    "driver.switch_to.window(driver.window_handles[1])    \n",
    "while True:\n",
    "    try:\n",
    "        WBS=driver.find_element_by_css_selector('[id=\"isc_0\"]').find_element_by_css_selector('[id=\"isc_60\"]').find_element_by_css_selector('[id=\"isc_5Ztable\"]').find_element_by_css_selector('[id=\"PlanManagerView$Hirc_valueCell0\"]')\n",
    "        if WBS.text==\"4016737\":\n",
    "            time.sleep(1)\n",
    "            break\n",
    "    except:\n",
    "        time.sleep(3)\n",
    "driver.find_element_by_css_selector('#navbar > div.nav-menu > ul > li:nth-child(5) > a').click()\n",
    "time.sleep(2)\n",
    "driver.find_element_by_css_selector('[src=\"http://w3.huawei.com/pm/resource/ui/lib/smartclient-Lib/skins/Enterprise/images/actions/filter.png\"]').click()\n",
    "time.sleep(1)\n",
    "move_bar=driver.find_element_by_css_selector('[src=\"http://w3.huawei.com/pm/resource/ui/lib/smartclient-Lib/skins/Enterprise/images/Scrollbar/hthumb_grip.png\"]')\n",
    "ActionChains(driver).drag_and_drop_by_offset(move_bar, 921, 0).perform()\n",
    "time.sleep(1)\n",
    "driver.find_element_by_css_selector('#isc_CC').click()\n",
    "driver.find_element_by_css_selector('[id=\"isc_PickListMenu_3_row_3\"]').click()\n",
    "driver.find_element_by_css_selector('#isc_DR').send_keys('Yifan')\n",
    "time.sleep(1)\n",
    "driver.find_element_by_css_selector('[src=\"http://w3.huawei.com/pm/resource/ui/lib/smartclient-Lib/skins/Enterprise/images/RecordEditor/filter.png\"]').click()\n",
    "ActionChains(driver).drag_and_drop_by_offset(move_bar, -921, 0).perform()\n",
    "time.sleep(3)\n",
    "driver.find_element_by_css_selector('[id=\"WBS$Activity$MassUpdate_wbsControlCheckBoxName\"]').click()\n",
    "time.sleep(1)\n",
    "right_click_place=driver.find_element_by_css_selector('[id=\"WBS$Activity$MassUpdate_wbsCheckBoxName_0\"]')\n",
    "ActionChains(driver).context_click(right_click_place).perform()\n",
    "driver.find_element_by_css_selector('[src=\"http://w3.huawei.com/pm/images/releaseWbs.png\"]').click()\n",
    "time.sleep(1)\n",
    "driver.find_element_by_css_selector('[id=\"btnSubmit\"]').click()\n"
   ]
  },
  {
   "cell_type": "markdown",
   "metadata": {},
   "source": [
    "#table check box ID from 0\n",
    "id=\"WBS$Activity$MassUpdate_wbsCheckBoxName_0\"\n",
    "#dialog box\n",
    "class=\"windowBody\""
   ]
  },
  {
   "cell_type": "markdown",
   "metadata": {},
   "source": [
    "Test_sample from website\n",
    "username = driver.find_element_by_css_selector(\"input[tabindex='1']\")  \n",
    "password = driver.find_element_by_css_selector(\"input[tabindex='2']\")"
   ]
  },
  {
   "cell_type": "code",
   "execution_count": null,
   "metadata": {},
   "outputs": [],
   "source": []
  }
 ],
 "metadata": {
  "kernelspec": {
   "display_name": "Python 3",
   "language": "python",
   "name": "python3"
  },
  "language_info": {
   "codemirror_mode": {
    "name": "ipython",
    "version": 3
   },
   "file_extension": ".py",
   "mimetype": "text/x-python",
   "name": "python",
   "nbconvert_exporter": "python",
   "pygments_lexer": "ipython3",
   "version": "3.6.5"
  }
 },
 "nbformat": 4,
 "nbformat_minor": 2
}
