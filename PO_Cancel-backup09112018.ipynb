{
 "cells": [
  {
   "cell_type": "code",
   "execution_count": 1,
   "metadata": {},
   "outputs": [],
   "source": [
    "#liberary\n",
    "import pandas as pd\n",
    "from pandas import ExcelWriter\n",
    "from pandas import ExcelFile\n",
    "from selenium import webdriver\n",
    "import time\n",
    "from selenium.webdriver.common.keys import Keys\n",
    "from selenium.webdriver.common.action_chains import ActionChains\n",
    "from selenium.webdriver.common.by import By\n",
    "from selenium.webdriver.support.ui import Select\n",
    "import numpy as np\n",
    "import ipywidgets as widgets\n",
    "import glob\n",
    "import os"
   ]
  },
  {
   "cell_type": "code",
   "execution_count": 2,
   "metadata": {},
   "outputs": [],
   "source": [
    "def log_in(Web,person):\n",
    "    bookmark = {'ibuy': \"http://w3.huawei.com/ibuy/menu.do?actionFlag=getMenu&isIntroStr=yes\", 'ERP_PM': \"http://w3.huawei.com/pm/\", 'ERP_PC': \"http://w3.huawei.com/pc/#!common/pages/home.html\",'ISDP': \"http://app.huawei.com/sdcp/portalNew\",'ECOR': \"http://w3.huawei.com/ewe/ecor/#!ecor/ukvr/approve/myToDo.html\"}\n",
    "    ID_password={}\n",
    "    try:\n",
    "        url=bookmark[Web]\n",
    "    except KeyError :\n",
    "        print(\"please fill in correct web:'ibuy','ERP_PM','ERP_PC','ISDP','ECOR'\")\n",
    "    try:\n",
    "        ID=ID_password[person][0]\n",
    "        password=ID_password[person][1]\n",
    "    except KeyError :\n",
    "        print(\"please fill in correct name:'Yifan','Yuqi','Wenji','Junjun','Mengmeng','Yizhe'\")    \n",
    "    driver.set_page_load_timeout(10)\n",
    "    driver.get(url)\n",
    "    driver.maximize_window()\n",
    "    time.sleep(2)\n",
    "    driver.find_element_by_name(\"uid\").send_keys(ID)\n",
    "    driver.find_element_by_name(\"password\").send_keys(password)\n",
    "    driver.find_element_by_name(\"password\").send_keys(Keys.ENTER)"
   ]
  },
  {
   "cell_type": "code",
   "execution_count": 6,
   "metadata": {},
   "outputs": [],
   "source": [
    "path =r'D:\\02.PO_cancellation\\Request'\n",
    "allFiles = glob.glob(path+ \"/*.xlsx\")\n",
    "Cancel_table= pd.read_excel(allFiles[0], sheet_name='Sheet1',dtype=str) "
   ]
  },
  {
   "cell_type": "markdown",
   "metadata": {},
   "source": [
    "Column Name:"
   ]
  },
  {
   "cell_type": "code",
   "execution_count": null,
   "metadata": {},
   "outputs": [],
   "source": [
    "PO_NO='PO NO.'\n",
    "DU_ID='Site Code'\n",
    "Item_code='Item'\n",
    "Item_des='PO Line Description'"
   ]
  },
  {
   "cell_type": "markdown",
   "metadata": {},
   "source": [
    "Cancel by item_code"
   ]
  },
  {
   "cell_type": "code",
   "execution_count": 7,
   "metadata": {},
   "outputs": [
    {
     "data": {
      "text/html": [
       "<div>\n",
       "<style scoped>\n",
       "    .dataframe tbody tr th:only-of-type {\n",
       "        vertical-align: middle;\n",
       "    }\n",
       "\n",
       "    .dataframe tbody tr th {\n",
       "        vertical-align: top;\n",
       "    }\n",
       "\n",
       "    .dataframe thead th {\n",
       "        text-align: right;\n",
       "    }\n",
       "</style>\n",
       "<table border=\"1\" class=\"dataframe\">\n",
       "  <thead>\n",
       "    <tr style=\"text-align: right;\">\n",
       "      <th></th>\n",
       "      <th></th>\n",
       "      <th></th>\n",
       "      <th>HW Contract No.</th>\n",
       "      <th>iBuy PR No.</th>\n",
       "      <th>PR Creation Date</th>\n",
       "      <th>Supplier Name</th>\n",
       "      <th>PO Line No.</th>\n",
       "      <th>PO Shipment No.</th>\n",
       "      <th>PO Line Description</th>\n",
       "    </tr>\n",
       "    <tr>\n",
       "      <th>PO NO.</th>\n",
       "      <th>Site Code</th>\n",
       "      <th>Item</th>\n",
       "      <th></th>\n",
       "      <th></th>\n",
       "      <th></th>\n",
       "      <th></th>\n",
       "      <th></th>\n",
       "      <th></th>\n",
       "      <th></th>\n",
       "    </tr>\n",
       "  </thead>\n",
       "  <tbody>\n",
       "    <tr>\n",
       "      <th>3661152945-63</th>\n",
       "      <th>35192vfBISON</th>\n",
       "      <th>8812150886</th>\n",
       "      <td>82618373622</td>\n",
       "      <td>366116351608</td>\n",
       "      <td>2018-10-15 21:41:00</td>\n",
       "      <td>COMVERGENT LIMITED</td>\n",
       "      <td>6</td>\n",
       "      <td>1</td>\n",
       "      <td>Tech add with RFU, RRU, feeder installation an...</td>\n",
       "    </tr>\n",
       "    <tr>\n",
       "      <th>3661152945-66</th>\n",
       "      <th>3653vfBISON</th>\n",
       "      <th>8812150884</th>\n",
       "      <td>82618362922</td>\n",
       "      <td>366116359034</td>\n",
       "      <td>2018-10-16 17:26:00</td>\n",
       "      <td>COMVERGENT LIMITED</td>\n",
       "      <td>4</td>\n",
       "      <td>1</td>\n",
       "      <td>Tech Add with RRU installation, without feeder...</td>\n",
       "    </tr>\n",
       "    <tr>\n",
       "      <th>3661152945-64</th>\n",
       "      <th>4615VFBISON</th>\n",
       "      <th>8812150886</th>\n",
       "      <td>82618379822</td>\n",
       "      <td>366116359045</td>\n",
       "      <td>2018-10-16 17:27:00</td>\n",
       "      <td>COMVERGENT LIMITED</td>\n",
       "      <td>6</td>\n",
       "      <td>1</td>\n",
       "      <td>Tech add with RFU, RRU, feeder installation an...</td>\n",
       "    </tr>\n",
       "    <tr>\n",
       "      <th>3661152945-49</th>\n",
       "      <th>1941VFBISON</th>\n",
       "      <th>8812150881</th>\n",
       "      <td>82618382422</td>\n",
       "      <td>366116236347</td>\n",
       "      <td>2018-09-28 20:50:00</td>\n",
       "      <td>COMVERGENT LIMITED</td>\n",
       "      <td>1</td>\n",
       "      <td>5</td>\n",
       "      <td>Tech add with RFU installation (ground level o...</td>\n",
       "    </tr>\n",
       "  </tbody>\n",
       "</table>\n",
       "</div>"
      ],
      "text/plain": [
       "                                      HW Contract No.   iBuy PR No.  \\\n",
       "PO NO.        Site Code    Item                                       \n",
       "3661152945-63 35192vfBISON 8812150886     82618373622  366116351608   \n",
       "3661152945-66 3653vfBISON  8812150884     82618362922  366116359034   \n",
       "3661152945-64 4615VFBISON  8812150886     82618379822  366116359045   \n",
       "3661152945-49 1941VFBISON  8812150881     82618382422  366116236347   \n",
       "\n",
       "                                          PR Creation Date  \\\n",
       "PO NO.        Site Code    Item                              \n",
       "3661152945-63 35192vfBISON 8812150886  2018-10-15 21:41:00   \n",
       "3661152945-66 3653vfBISON  8812150884  2018-10-16 17:26:00   \n",
       "3661152945-64 4615VFBISON  8812150886  2018-10-16 17:27:00   \n",
       "3661152945-49 1941VFBISON  8812150881  2018-09-28 20:50:00   \n",
       "\n",
       "                                            Supplier Name PO Line No.  \\\n",
       "PO NO.        Site Code    Item                                         \n",
       "3661152945-63 35192vfBISON 8812150886  COMVERGENT LIMITED           6   \n",
       "3661152945-66 3653vfBISON  8812150884  COMVERGENT LIMITED           4   \n",
       "3661152945-64 4615VFBISON  8812150886  COMVERGENT LIMITED           6   \n",
       "3661152945-49 1941VFBISON  8812150881  COMVERGENT LIMITED           1   \n",
       "\n",
       "                                      PO Shipment No.  \\\n",
       "PO NO.        Site Code    Item                         \n",
       "3661152945-63 35192vfBISON 8812150886               1   \n",
       "3661152945-66 3653vfBISON  8812150884               1   \n",
       "3661152945-64 4615VFBISON  8812150886               1   \n",
       "3661152945-49 1941VFBISON  8812150881               5   \n",
       "\n",
       "                                                                     PO Line Description  \n",
       "PO NO.        Site Code    Item                                                           \n",
       "3661152945-63 35192vfBISON 8812150886  Tech add with RFU, RRU, feeder installation an...  \n",
       "3661152945-66 3653vfBISON  8812150884  Tech Add with RRU installation, without feeder...  \n",
       "3661152945-64 4615VFBISON  8812150886  Tech add with RFU, RRU, feeder installation an...  \n",
       "3661152945-49 1941VFBISON  8812150881  Tech add with RFU installation (ground level o...  "
      ]
     },
     "execution_count": 7,
     "metadata": {},
     "output_type": "execute_result"
    }
   ],
   "source": [
    "Cancel_table.set_index(keys=['PO NO.','Site Code','Item'],inplace=True)\n",
    "Cancel_table"
   ]
  },
  {
   "cell_type": "code",
   "execution_count": 12,
   "metadata": {},
   "outputs": [],
   "source": [
    "Cancel_select=\"Canceled By Huawei\""
   ]
  },
  {
   "cell_type": "code",
   "execution_count": null,
   "metadata": {},
   "outputs": [],
   "source": [
    "Cancel_select=\"Long Term PO\""
   ]
  },
  {
   "cell_type": "code",
   "execution_count": null,
   "metadata": {},
   "outputs": [],
   "source": [
    "Cancel_select=\"Canceled By Customer\""
   ]
  },
  {
   "cell_type": "code",
   "execution_count": null,
   "metadata": {},
   "outputs": [],
   "source": [
    "Cancel_select=\"Duplicate PO\""
   ]
  },
  {
   "cell_type": "code",
   "execution_count": null,
   "metadata": {},
   "outputs": [],
   "source": [
    "Cancel_select=\"Canceled By Supplier\""
   ]
  },
  {
   "cell_type": "code",
   "execution_count": 13,
   "metadata": {},
   "outputs": [],
   "source": [
    "Cancel_reason='Model Change FROM Wenjie'"
   ]
  },
  {
   "cell_type": "code",
   "execution_count": null,
   "metadata": {},
   "outputs": [],
   "source": [
    "path =r'D:\\02.PO_cancellation\\Request'\n",
    "allFiles = glob.glob(path+ \"/*.xlsx\")\n",
    "Cancel_table= pd.read_excel(allFiles[0], sheet_name='Sheet1',dtype=str)    \n",
    "Cancel_table.set_index(keys=['PO NO.','Site ID','PO Line Description'],inplace=True)\n",
    "Cancel_table"
   ]
  },
  {
   "cell_type": "code",
   "execution_count": 8,
   "metadata": {},
   "outputs": [
    {
     "data": {
      "text/plain": [
       "['3661152945-64', '3661152945-66', '3661152945-63', '3661152945-49']"
      ]
     },
     "execution_count": 8,
     "metadata": {},
     "output_type": "execute_result"
    }
   ],
   "source": [
    "PO_list=list(set(list(Cancel_table.index.get_level_values('PO NO.'))))\n",
    "PO_list"
   ]
  },
  {
   "cell_type": "code",
   "execution_count": 9,
   "metadata": {},
   "outputs": [
    {
     "data": {
      "text/html": [
       "<div>\n",
       "<style scoped>\n",
       "    .dataframe tbody tr th:only-of-type {\n",
       "        vertical-align: middle;\n",
       "    }\n",
       "\n",
       "    .dataframe tbody tr th {\n",
       "        vertical-align: top;\n",
       "    }\n",
       "\n",
       "    .dataframe thead th {\n",
       "        text-align: right;\n",
       "    }\n",
       "</style>\n",
       "<table border=\"1\" class=\"dataframe\">\n",
       "  <thead>\n",
       "    <tr style=\"text-align: right;\">\n",
       "      <th></th>\n",
       "      <th>PO</th>\n",
       "      <th>DU_ID</th>\n",
       "      <th>item</th>\n",
       "    </tr>\n",
       "  </thead>\n",
       "  <tbody>\n",
       "  </tbody>\n",
       "</table>\n",
       "</div>"
      ],
      "text/plain": [
       "Empty DataFrame\n",
       "Columns: [PO, DU_ID, item]\n",
       "Index: []"
      ]
     },
     "execution_count": 9,
     "metadata": {},
     "output_type": "execute_result"
    }
   ],
   "source": [
    "Check_table= pd.read_excel(r'D:\\02.PO_cancellation\\Process\\Check_process.xlsx', sheet_name='Sheet1')\n",
    "Check_table"
   ]
  },
  {
   "cell_type": "code",
   "execution_count": 10,
   "metadata": {},
   "outputs": [
    {
     "data": {
      "text/plain": [
       "['3661152945-64', '3661152945-66', '3661152945-63', '3661152945-49']"
      ]
     },
     "execution_count": 10,
     "metadata": {},
     "output_type": "execute_result"
    }
   ],
   "source": [
    "for PO in list(set(list(Check_table['PO']))):\n",
    "    PO_list.remove(PO)\n",
    "PO_list"
   ]
  },
  {
   "cell_type": "markdown",
   "metadata": {},
   "source": [
    "By item code"
   ]
  },
  {
   "cell_type": "code",
   "execution_count": 14,
   "metadata": {
    "scrolled": true
   },
   "outputs": [
    {
     "name": "stdout",
     "output_type": "stream",
     "text": [
      "All done\n"
     ]
    }
   ],
   "source": [
    "driver = webdriver.Chrome(\"C:/Users/ywx610506/Documents/chromedriver.exe\")\n",
    "driver.implicitly_wait(10)\n",
    "log_in('ibuy',\"Yifan\")\n",
    "time.sleep(2)\n",
    "#direct to PO cancel\n",
    "driver.find_element_by_css_selector('[id=\"arrowIconSpan\"]').click()\n",
    "driver.find_element_by_css_selector(\"#MenuBar > li:nth-child(3) > a > span\").click()\n",
    "driver.find_element_by_css_selector(\"#MenuBar > li:nth-child(3) > ul > li:nth-child(1) > a > span\").click()\n",
    "driver.find_element_by_css_selector(\"#MenuBar > li:nth-child(3) > ul > li:nth-child(1) > ul > li:nth-child(2) > a > span\").click()\n",
    "driver.find_element_by_css_selector(\"#MenuBar > li:nth-child(3) > ul > li:nth-child(1) > ul > li:nth-child(2) > ul > li:nth-child(1) > a > span\").click()\n",
    "time.sleep(2)\n",
    "driver.find_element_by_css_selector(\"#id_content_div > form > table.input_data_table > tbody > tr:nth-child(3) > td:nth-child(6) > nobr > input.button\").click()\n",
    "time.sleep(1)\n",
    "\n",
    "for PO_number in PO_list:\n",
    "    Row_count = Select(driver.find_element_by_name('pagination.rowsPerPage'))\n",
    "    Row_count.select_by_value(\"50\")\n",
    "    time.sleep(3)\n",
    "    driver.find_element_by_css_selector('[name=\"prChangeListVO.poNo\"]').send_keys(PO_number)\n",
    "    driver.find_element_by_css_selector('[name=\"prChangeListVO.poNo\"]').send_keys(Keys.ENTER)\n",
    "    time.sleep(2)\n",
    "    Page_index=driver.find_element_by_css_selector('[class=\"t_page\"]').text\n",
    "    Page_total=Page_index.split('/')[1]\n",
    "    for page in range(1,int(Page_total)+1):\n",
    "        driver.find_element_by_css_selector('[name=\"inputPageNo\"]').clear()\n",
    "        driver.find_element_by_css_selector('[name=\"inputPageNo\"]').send_keys(page)\n",
    "        Go=driver.find_element_by_css_selector('[class=\"turn_page\"]').find_element_by_css_selector('[class=\"button\"]')\n",
    "        Go.click()\n",
    "        time.sleep(2)\n",
    "        Select_table=driver.find_element_by_css_selector('[class=\"input_data_table\"]')\n",
    "        list_tr_row=Select_table.find_elements(By.TAG_NAME, \"tr\")\n",
    "        for line in range(0,len(list_tr_row)-1):\n",
    "            DU_loc='[name=\"prChangeListLine['+str(line)+'].siteId\"]'\n",
    "            item_code_loc='[name=\"prChangeListLine['+str(line)+'].item\"]'\n",
    "            DU_ID=list_tr_row[line+1].find_element_by_css_selector(DU_loc).get_attribute(\"value\")\n",
    "            item_code=list_tr_row[line+1].find_element_by_css_selector(item_code_loc).get_attribute(\"value\")\n",
    "            DU_list=list(set(list(Cancel_table.loc[PO_number].index.get_level_values('Site Code'))))\n",
    "            if str(DU_ID) in DU_list:\n",
    "                item_list=list(set(list(Cancel_table.loc[PO_number].loc[DU_ID].index.get_level_values('Item'))))\n",
    "                if str(item_code) in item_list:\n",
    "                    list_tr_row[line+1].find_element_by_css_selector('[name=\"prCheck\"]').click()\n",
    "                    line_date=pd.DataFrame([[PO_number,DU_ID,item_code]],columns=[\"PO\",\"DU_ID\",\"item\"])\n",
    "                    Check_table=Check_table.append(line_date, ignore_index=True)\n",
    "    time.sleep(1)\n",
    "    driver.find_element_by_css_selector('[name=\"btn2prChange\"]').click()\n",
    "    while True:\n",
    "        try:\n",
    "            driver.find_element_by_name(\"all\").click()\n",
    "            break\n",
    "        except: \n",
    "            time.sleep(3)\n",
    "    driver.find_element_by_css_selector(\"#changeCanbnt\").click()\n",
    "    time.sleep(1)\n",
    "    driver.find_element_by_css_selector(\"#div1 > form > div > div > center > input\").click()\n",
    "    #select cancel reason\n",
    "    Line_cancel_reason = Select(driver.find_element_by_name('prInfoVO.changeReason1'))\n",
    "    Line_cancel_reason.select_by_value(Cancel_select)\n",
    "    driver.find_element_by_name(\"prCancelRemark\").send_keys(Cancel_reason)\n",
    "    time.sleep(1)\n",
    "    #select approver\n",
    "    Approver = Select(driver.find_element_by_name('tempParamsMap(wfApprove)'))\n",
    "    Approver.select_by_value(\"266055\")\n",
    "    time.sleep(1)\n",
    "    driver.find_element_by_css_selector('[id=\"changeSubbnt\"]').click()\n",
    "    time.sleep(1)\n",
    "    try:\n",
    "        alert = driver.switch_to.alert\n",
    "        pause=input('Please remove accepted item and press enter to continue')\n",
    "        driver.find_element_by_css_selector('[id=\"changeSubbnt\"]').click()\n",
    "        alert.accept()\n",
    "    except:\n",
    "        None\n",
    "print(\"All done\")"
   ]
  },
  {
   "cell_type": "markdown",
   "metadata": {},
   "source": [
    "By item description"
   ]
  },
  {
   "cell_type": "code",
   "execution_count": 12,
   "metadata": {
    "scrolled": true
   },
   "outputs": [
    {
     "name": "stdout",
     "output_type": "stream",
     "text": [
      "All done\n"
     ]
    }
   ],
   "source": [
    "driver = webdriver.Chrome(\"C:/Users/ywx610506/Documents/chromedriver.exe\")\n",
    "driver.implicitly_wait(10)\n",
    "log_in('ibuy',\"Yifan\")\n",
    "time.sleep(2)\n",
    "#direct to PO cancel\n",
    "driver.find_element_by_css_selector('[id=\"arrowIconSpan\"]').click()\n",
    "driver.find_element_by_css_selector(\"#MenuBar > li:nth-child(3) > a > span\").click()\n",
    "driver.find_element_by_css_selector(\"#MenuBar > li:nth-child(3) > ul > li:nth-child(1) > a > span\").click()\n",
    "driver.find_element_by_css_selector(\"#MenuBar > li:nth-child(3) > ul > li:nth-child(1) > ul > li:nth-child(2) > a > span\").click()\n",
    "driver.find_element_by_css_selector(\"#MenuBar > li:nth-child(3) > ul > li:nth-child(1) > ul > li:nth-child(2) > ul > li:nth-child(1) > a > span\").click()\n",
    "time.sleep(2)\n",
    "driver.find_element_by_css_selector(\"#id_content_div > form > table.input_data_table > tbody > tr:nth-child(3) > td:nth-child(6) > nobr > input.button\").click()\n",
    "time.sleep(1)\n",
    "\n",
    "for PO_number in PO_list:\n",
    "    Row_count = Select(driver.find_element_by_name('pagination.rowsPerPage'))\n",
    "    Row_count.select_by_value(\"50\")\n",
    "    time.sleep(3)\n",
    "    driver.find_element_by_css_selector('[name=\"prChangeListVO.poNo\"]').send_keys(PO_number)\n",
    "    driver.find_element_by_css_selector('[name=\"prChangeListVO.poNo\"]').send_keys(Keys.ENTER)\n",
    "    time.sleep(2)\n",
    "    Page_index=driver.find_element_by_css_selector('[class=\"t_page\"]').text\n",
    "    Page_total=Page_index.split('/')[1]\n",
    "    for page in range(1,int(Page_total)+1):\n",
    "        driver.find_element_by_css_selector('[name=\"inputPageNo\"]').clear()\n",
    "        driver.find_element_by_css_selector('[name=\"inputPageNo\"]').send_keys(page)\n",
    "        Go=driver.find_element_by_css_selector('[class=\"turn_page\"]').find_element_by_css_selector('[class=\"button\"]')\n",
    "        Go.click()\n",
    "        time.sleep(2)\n",
    "        Select_table=driver.find_element_by_css_selector('[class=\"input_data_table\"]')\n",
    "        list_tr_row=Select_table.find_elements(By.TAG_NAME, \"tr\")\n",
    "        for line in range(0,len(list_tr_row)-1):\n",
    "            DU_loc='[name=\"prChangeListLine['+str(line)+'].siteId\"]'\n",
    "            item_name_loc='[name=\"prChangeListLine['+str(line)+'].description\"]'\n",
    "            DU_ID=list_tr_row[line+1].find_element_by_css_selector(DU_loc).get_attribute(\"value\")\n",
    "            item_name=list_tr_row[line+1].find_element_by_css_selector(item_name_loc).get_attribute(\"value\")\n",
    "            DU_list=list(set(list(Cancel_table.loc[PO_number].index.get_level_values('Site ID'))))\n",
    "            if str(DU_ID) in DU_list:\n",
    "                item_list=list(set(list(Cancel_table.loc[PO_number].loc[DU_ID].index.get_level_values('PO Line Description'))))\n",
    "                if str(item_name) in item_list:\n",
    "                    list_tr_row[line+1].find_element_by_css_selector('[name=\"prCheck\"]').click()\n",
    "                    line_date=pd.DataFrame([[PO_number,DU_ID,item_name]],columns=[\"PO\",\"DU_ID\",\"item\"])\n",
    "                    Check_table=Check_table.append(line_date, ignore_index=True)\n",
    "    time.sleep(1)\n",
    "    driver.find_element_by_css_selector('[name=\"btn2prChange\"]').click()\n",
    "    while True:\n",
    "        try:\n",
    "            driver.find_element_by_name(\"all\").click()\n",
    "            break\n",
    "        except: \n",
    "            time.sleep(3)\n",
    "    driver.find_element_by_css_selector(\"#changeCanbnt\").click()\n",
    "    time.sleep(1)\n",
    "    driver.find_element_by_css_selector(\"#div1 > form > div > div > center > input\").click()\n",
    "    #select cancel reason\n",
    "    Line_cancel_reason = Select(driver.find_element_by_name('prInfoVO.changeReason1'))\n",
    "    Line_cancel_reason.select_by_value(Cancel_select)\n",
    "    driver.find_element_by_name(\"prCancelRemark\").send_keys(Cancel_reason)   \n",
    "    time.sleep(1)\n",
    "    #select approver\n",
    "    Approver = Select(driver.find_element_by_name('tempParamsMap(wfApprove)'))\n",
    "    Approver.select_by_value(\"266055\")\n",
    "    time.sleep(1)\n",
    "    driver.find_element_by_css_selector('[id=\"changeSubbnt\"]').click()\n",
    "    time.sleep(1)\n",
    "    try:\n",
    "        alert = driver.switch_to.alert\n",
    "        pause=input('Please remove accepted item and press enter to continue')\n",
    "        driver.find_element_by_css_selector('[id=\"changeSubbnt\"]').click()\n",
    "        alert.accept()\n",
    "    except:\n",
    "        None\n",
    "print(\"All done\")"
   ]
  },
  {
   "cell_type": "code",
   "execution_count": 17,
   "metadata": {},
   "outputs": [],
   "source": [
    "writer = pd.ExcelWriter(r'D:\\02.PO_cancellation\\Process\\Check_process.xlsx')\n",
    "Check_table.to_excel(writer,'Sheet1')\n",
    "writer.save()"
   ]
  },
  {
   "cell_type": "code",
   "execution_count": null,
   "metadata": {},
   "outputs": [],
   "source": []
  }
 ],
 "metadata": {
  "kernelspec": {
   "display_name": "Python 3",
   "language": "python",
   "name": "python3"
  },
  "language_info": {
   "codemirror_mode": {
    "name": "ipython",
    "version": 3
   },
   "file_extension": ".py",
   "mimetype": "text/x-python",
   "name": "python",
   "nbconvert_exporter": "python",
   "pygments_lexer": "ipython3",
   "version": "3.6.5"
  }
 },
 "nbformat": 4,
 "nbformat_minor": 2
}
